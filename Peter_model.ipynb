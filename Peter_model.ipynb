{
 "cells": [
  {
   "cell_type": "code",
   "execution_count": 99,
   "metadata": {
    "collapsed": true
   },
   "outputs": [],
   "source": [
    "%matplotlib inline\n",
    "import numpy as np\n",
    "import scipy as sp\n",
    "import matplotlib as mpl\n",
    "import matplotlib.cm as cm\n",
    "import matplotlib.pyplot as plt\n",
    "import pandas as pd\n",
    "pd.set_option('display.width', 500)\n",
    "pd.set_option('display.max_columns', 100)\n",
    "pd.set_option('display.notebook_repr_html', True)\n",
    "import seaborn as sns\n",
    "sns.set_style(\"whitegrid\")\n",
    "sns.set_context(\"poster\")\n",
    "import time"
   ]
  },
  {
   "cell_type": "code",
   "execution_count": 100,
   "metadata": {
    "collapsed": false
   },
   "outputs": [],
   "source": [
    "from  sklearn.ensemble import RandomForestClassifier\n",
    "from sklearn.linear_model import Ridge\n",
    "from sklearn.cross_validation import train_test_split\n",
    "from sklearn.cross_validation import cross_val_score\n",
    "from sklearn.grid_search import GridSearchCV\n",
    "from sklearn.feature_extraction import DictVectorizer\n",
    "from sklearn.linear_model import LogisticRegression"
   ]
  },
  {
   "cell_type": "code",
   "execution_count": 101,
   "metadata": {
    "collapsed": false
   },
   "outputs": [
    {
     "data": {
      "text/html": [
       "<div>\n",
       "<table border=\"1\" class=\"dataframe\">\n",
       "  <thead>\n",
       "    <tr style=\"text-align: right;\">\n",
       "      <th></th>\n",
       "      <th>time</th>\n",
       "      <th>city</th>\n",
       "      <th>income</th>\n",
       "      <th>state</th>\n",
       "      <th>product</th>\n",
       "      <th>_id</th>\n",
       "      <th>temp</th>\n",
       "      <th>surge</th>\n",
       "      <th>weather</th>\n",
       "    </tr>\n",
       "  </thead>\n",
       "  <tbody>\n",
       "    <tr>\n",
       "      <th>0</th>\n",
       "      <td>Fri, 20 Nov 2015 22:19:52 GMT</td>\n",
       "      <td>Atlanta</td>\n",
       "      <td>High</td>\n",
       "      <td>GA</td>\n",
       "      <td>UberSUV</td>\n",
       "      <td>b605b0b06730c256bc90499b6c53afaf</td>\n",
       "      <td>62</td>\n",
       "      <td>10</td>\n",
       "      <td>Clear</td>\n",
       "    </tr>\n",
       "    <tr>\n",
       "      <th>1</th>\n",
       "      <td>Sat, 28 Nov 2015 13:39:55 GMT</td>\n",
       "      <td>San Francisco</td>\n",
       "      <td>Low</td>\n",
       "      <td>CA</td>\n",
       "      <td>UberSUV</td>\n",
       "      <td>5ac25b0bb4283ddcd818a07d5e7507d5</td>\n",
       "      <td>47</td>\n",
       "      <td>10</td>\n",
       "      <td>Clear</td>\n",
       "    </tr>\n",
       "    <tr>\n",
       "      <th>2</th>\n",
       "      <td>Mon, 30 Nov 2015 03:16:49 GMT</td>\n",
       "      <td>Atlanta</td>\n",
       "      <td>Low</td>\n",
       "      <td>GA</td>\n",
       "      <td>uberXL</td>\n",
       "      <td>a209e7632350d72f82aff073fc406563</td>\n",
       "      <td>69</td>\n",
       "      <td>10</td>\n",
       "      <td>Overcast</td>\n",
       "    </tr>\n",
       "    <tr>\n",
       "      <th>3</th>\n",
       "      <td>Wed, 18 Nov 2015 17:54:37 GMT</td>\n",
       "      <td>Atlanta</td>\n",
       "      <td>Low</td>\n",
       "      <td>GA</td>\n",
       "      <td>UberBLACK</td>\n",
       "      <td>06acbfc4f40ff6cb6ef15a8755945079</td>\n",
       "      <td>66</td>\n",
       "      <td>10</td>\n",
       "      <td>Rain</td>\n",
       "    </tr>\n",
       "    <tr>\n",
       "      <th>4</th>\n",
       "      <td>Wed, 18 Nov 2015 19:27:14 GMT</td>\n",
       "      <td>Atlanta</td>\n",
       "      <td>High</td>\n",
       "      <td>GA</td>\n",
       "      <td>UberBLACK</td>\n",
       "      <td>8a45a65827191fa1ba23fdf767196104</td>\n",
       "      <td>69</td>\n",
       "      <td>10</td>\n",
       "      <td>Rain</td>\n",
       "    </tr>\n",
       "  </tbody>\n",
       "</table>\n",
       "</div>"
      ],
      "text/plain": [
       "                            time           city income state    product                               _id  temp  surge   weather\n",
       "0  Fri, 20 Nov 2015 22:19:52 GMT        Atlanta   High    GA    UberSUV  b605b0b06730c256bc90499b6c53afaf    62     10     Clear\n",
       "1  Sat, 28 Nov 2015 13:39:55 GMT  San Francisco    Low    CA    UberSUV  5ac25b0bb4283ddcd818a07d5e7507d5    47     10     Clear\n",
       "2  Mon, 30 Nov 2015 03:16:49 GMT        Atlanta    Low    GA     uberXL  a209e7632350d72f82aff073fc406563    69     10  Overcast\n",
       "3  Wed, 18 Nov 2015 17:54:37 GMT        Atlanta    Low    GA  UberBLACK  06acbfc4f40ff6cb6ef15a8755945079    66     10      Rain\n",
       "4  Wed, 18 Nov 2015 19:27:14 GMT        Atlanta   High    GA  UberBLACK  8a45a65827191fa1ba23fdf767196104    69     10      Rain"
      ]
     },
     "execution_count": 101,
     "metadata": {},
     "output_type": "execute_result"
    }
   ],
   "source": [
    "df=pd.read_csv(\"output2.csv\")\n",
    "df.head()"
   ]
  },
  {
   "cell_type": "code",
   "execution_count": 102,
   "metadata": {
    "collapsed": true
   },
   "outputs": [],
   "source": [
    "# Function to put full name of Day\n",
    "def day_fix(string):\n",
    "    if string == 'Mon':\n",
    "        return \"Monday\"\n",
    "    elif string =='Tue':\n",
    "        return \"Tuesday\"\n",
    "    elif string =='Wed':\n",
    "        return \"Wednesday\"\n",
    "    elif string =='Thu':\n",
    "        return 'Thursday'\n",
    "    elif string == 'Fri':\n",
    "        return 'Friday'\n",
    "    elif string == 'Sat':\n",
    "        return 'Saturday'\n",
    "    elif string == 'Sun':\n",
    "        return 'Sunday'\n",
    "    else:\n",
    "        print \"Error in day_fix!!!!!\"\n",
    "\n",
    "# Function to round everything **Down** to the nearest 10 minutes\n",
    "def min_fix(string):\n",
    "    num = int(string)\n",
    "    return str(num - (num%10))\n",
    "\n",
    "# Check and replace the surge\n",
    "def surge_check(surge):\n",
    "    if surge == 10:\n",
    "        return \"No Surge\"\n",
    "    elif surge > 15:\n",
    "        return \"High Surge\"\n",
    "    elif surge == 15:\n",
    "        return \"Mid Surge\"\n",
    "    else:\n",
    "        return \"Low Surge\""
   ]
  },
  {
   "cell_type": "markdown",
   "metadata": {},
   "source": [
    "After messing with the data, found that only a small percentage of the data has a Surge (only 5.6%). After digging deeper into the surge prices and messing around with different combinations I set the limits at **Low Surge < 1.5x**, **Mid Surge = 1.5x**, and **High Surge > 1.5x**. I thought that is a fair cut off as well because you are spending 50% more on the ride at 1.5x surge.\n",
    "\n",
    "The first function is just to correct the days from their shortened version into full length versions (e.g. \"Mon\" -> \"Monday\")"
   ]
  },
  {
   "cell_type": "code",
   "execution_count": 103,
   "metadata": {
    "collapsed": false
   },
   "outputs": [],
   "source": [
    "#Code to clean cartype\n",
    "for index in df.index:\n",
    "    if df.loc[index,'product'] == 'uberX + Car Seat':\n",
    "        df.loc[index,'product'] = 'uberX'\n",
    "    elif df.loc[index,'product'] == 'SUV + Car Seat':\n",
    "        df.loc[index,'product'] = 'UberSUV'\n",
    "    elif df.loc[index,'product'] == 'BLACK CAR + Car Seat':\n",
    "        df.loc[index,'product'] = 'UberBlack'\n",
    "    elif df.loc[index,'product'] == 'UberSELECT':\n",
    "        df.loc[index,'product'] = 'uberSELECT'\n",
    "    elif df.loc[index,'product'] == 'uberT':\n",
    "        df.loc[index,'product'] = 'uberTAXI'\n",
    "    elif df.loc[index,'product'] == 'UberBLACK':\n",
    "        df.loc[index,'product'] = 'UberBlack'\n",
    "    "
   ]
  },
  {
   "cell_type": "code",
   "execution_count": 104,
   "metadata": {
    "collapsed": false
   },
   "outputs": [],
   "source": [
    "# Remove the extra rows from the dataframe\n",
    "remove = ['uberWAV', 'WAV', 'uberFAMILY', 'ASSIST', 'Yellow WAV']\n",
    "remove_mask = [i not in remove for i in df['product']]\n",
    "df =df[remove_mask]\n",
    "df.reset_index(inplace=True, drop = True)"
   ]
  },
  {
   "cell_type": "markdown",
   "metadata": {},
   "source": [
    "The above is to clean the car type column. I write it to only leave UberSUV, UberBlack, uberX, uberXL, uberTAXI, uberSELECT. For some of this this is taking out the change in spellings (e.g. 'UberBlack' and 'UberBLACK' to just 'UberBlack'). Others is taking out the extra car seat added. Then I also got rid of all the WAV cars (sorry handicap people, really apologize)."
   ]
  },
  {
   "cell_type": "code",
   "execution_count": 105,
   "metadata": {
    "collapsed": false
   },
   "outputs": [],
   "source": [
    "# Code to extract Weekdays and time of day from given dataframe\n",
    "time_list = [df.time[index].split(' ') for index in df.index]\n",
    "weekday_list = []\n",
    "hour_list = []\n",
    "for row in range(len(time_list)):\n",
    "    \n",
    "    #Cleaning the time column from the queried data set\n",
    "    time_list[row].remove('GMT')\n",
    "    time_list[row][0] = time_list[row][0].replace(',','')\n",
    "    time_list[row][0] = day_fix(time_list[row][0])\n",
    "    hour = int(time_list[row][4][0:2])\n",
    "    \n",
    "    # fix the time change\n",
    "    if df.loc[row,'city'] == 'San Francisco':\n",
    "        hour = hour - 8\n",
    "    else: \n",
    "        hour = hour - 5\n",
    "    if hour < 0 :\n",
    "        hour = 24 + hour\n",
    "    \n",
    "    # Append the Weekday to a list to be put into the dataframe\n",
    "    weekday_list.append(time_list[row][0])\n",
    "    \n",
    "    # call the min_fix function above and create the hours in 10 minute intervals\n",
    "    hour_list.append( str(hour) + ':' + min_fix(time_list[row][4][3:5]) )"
   ]
  },
  {
   "cell_type": "code",
   "execution_count": 106,
   "metadata": {
    "collapsed": true
   },
   "outputs": [],
   "source": [
    "#Code to convert Temp to ints\n",
    "temperature_list = [int(df.temp[index]) for index in df.index]"
   ]
  },
  {
   "cell_type": "code",
   "execution_count": 107,
   "metadata": {
    "collapsed": true
   },
   "outputs": [],
   "source": [
    "#Code to create Surge levels\n",
    "surge_list = [surge_check(df.surge[index]) for index in df.index]"
   ]
  },
  {
   "cell_type": "code",
   "execution_count": 108,
   "metadata": {
    "collapsed": true
   },
   "outputs": [],
   "source": [
    "# Cleaning the Weather Column\n",
    "for row in range(len(df)):\n",
    "    if df.loc[row,'weather'] == 'Light Rain':\n",
    "        df.loc[row,'weather'] = 'Rain'\n",
    "    elif df.loc[row,'weather'] == 'Scattered Clouds':\n",
    "        df.loc[row,'weather'] = 'Cloudy'\n",
    "    elif df.loc[row,'weather'] == 'Mostly Cloudy':\n",
    "        df.loc[row,'weather'] = 'Cloudy'\n",
    "    elif df.loc[row,'weather'] == 'Partly Cloudy':\n",
    "        df.loc[row,'weather'] = 'Cloudy'\n",
    "    elif df.loc[row,'weather'] == 'Overcast':\n",
    "        df.loc[row,'weather'] = 'Clear'"
   ]
  },
  {
   "cell_type": "markdown",
   "metadata": {},
   "source": [
    "Cleaning for the Weather Column to consolidate the columns into better categories that are more compact."
   ]
  },
  {
   "cell_type": "code",
   "execution_count": 109,
   "metadata": {
    "collapsed": false
   },
   "outputs": [
    {
     "data": {
      "text/html": [
       "<div>\n",
       "<table border=\"1\" class=\"dataframe\">\n",
       "  <thead>\n",
       "    <tr style=\"text-align: right;\">\n",
       "      <th></th>\n",
       "      <th>cartype</th>\n",
       "      <th>city</th>\n",
       "      <th>id</th>\n",
       "      <th>income</th>\n",
       "      <th>surge</th>\n",
       "      <th>temperature</th>\n",
       "      <th>time</th>\n",
       "      <th>weather</th>\n",
       "      <th>weekday</th>\n",
       "    </tr>\n",
       "  </thead>\n",
       "  <tbody>\n",
       "    <tr>\n",
       "      <th>0</th>\n",
       "      <td>UberSUV</td>\n",
       "      <td>Atlanta</td>\n",
       "      <td>b605b0b06730c256bc90499b6c53afaf</td>\n",
       "      <td>High</td>\n",
       "      <td>No Surge</td>\n",
       "      <td>62</td>\n",
       "      <td>17:10</td>\n",
       "      <td>Clear</td>\n",
       "      <td>Friday</td>\n",
       "    </tr>\n",
       "    <tr>\n",
       "      <th>1</th>\n",
       "      <td>UberSUV</td>\n",
       "      <td>San Francisco</td>\n",
       "      <td>5ac25b0bb4283ddcd818a07d5e7507d5</td>\n",
       "      <td>Low</td>\n",
       "      <td>No Surge</td>\n",
       "      <td>47</td>\n",
       "      <td>5:30</td>\n",
       "      <td>Clear</td>\n",
       "      <td>Saturday</td>\n",
       "    </tr>\n",
       "    <tr>\n",
       "      <th>2</th>\n",
       "      <td>uberXL</td>\n",
       "      <td>Atlanta</td>\n",
       "      <td>a209e7632350d72f82aff073fc406563</td>\n",
       "      <td>Low</td>\n",
       "      <td>No Surge</td>\n",
       "      <td>69</td>\n",
       "      <td>22:10</td>\n",
       "      <td>Clear</td>\n",
       "      <td>Monday</td>\n",
       "    </tr>\n",
       "    <tr>\n",
       "      <th>3</th>\n",
       "      <td>UberBlack</td>\n",
       "      <td>Atlanta</td>\n",
       "      <td>06acbfc4f40ff6cb6ef15a8755945079</td>\n",
       "      <td>Low</td>\n",
       "      <td>No Surge</td>\n",
       "      <td>66</td>\n",
       "      <td>12:50</td>\n",
       "      <td>Rain</td>\n",
       "      <td>Wednesday</td>\n",
       "    </tr>\n",
       "    <tr>\n",
       "      <th>4</th>\n",
       "      <td>UberBlack</td>\n",
       "      <td>Atlanta</td>\n",
       "      <td>8a45a65827191fa1ba23fdf767196104</td>\n",
       "      <td>High</td>\n",
       "      <td>No Surge</td>\n",
       "      <td>69</td>\n",
       "      <td>14:20</td>\n",
       "      <td>Rain</td>\n",
       "      <td>Wednesday</td>\n",
       "    </tr>\n",
       "  </tbody>\n",
       "</table>\n",
       "</div>"
      ],
      "text/plain": [
       "     cartype           city                                id income     surge  temperature   time weather    weekday\n",
       "0    UberSUV        Atlanta  b605b0b06730c256bc90499b6c53afaf   High  No Surge           62  17:10   Clear     Friday\n",
       "1    UberSUV  San Francisco  5ac25b0bb4283ddcd818a07d5e7507d5    Low  No Surge           47   5:30   Clear   Saturday\n",
       "2     uberXL        Atlanta  a209e7632350d72f82aff073fc406563    Low  No Surge           69  22:10   Clear     Monday\n",
       "3  UberBlack        Atlanta  06acbfc4f40ff6cb6ef15a8755945079    Low  No Surge           66  12:50    Rain  Wednesday\n",
       "4  UberBlack        Atlanta  8a45a65827191fa1ba23fdf767196104   High  No Surge           69  14:20    Rain  Wednesday"
      ]
     },
     "execution_count": 109,
     "metadata": {},
     "output_type": "execute_result"
    }
   ],
   "source": [
    "# Create Final Dataframe for use\n",
    "dict_final = {}\n",
    "dict_final = {'id': df._id, 'surge': surge_list , 'temperature': temperature_list, 'weather': df.weather,\n",
    "             'cartype': df['product'], 'city': df.city, 'income': df.income, 'weekday': weekday_list, \n",
    "              'time': hour_list}\n",
    "df_final = pd.DataFrame(dict_final)\n",
    "df_final.reset_index(inplace=True, drop = True)\n",
    "df_final.head()"
   ]
  },
  {
   "cell_type": "code",
   "execution_count": 110,
   "metadata": {
    "collapsed": false
   },
   "outputs": [
    {
     "name": "stdout",
     "output_type": "stream",
     "text": [
      "Percentage of data that has surge 0.040\n",
      "Percentage of Surge that has Low Surge 0.338\n",
      "Percentage of Surge that has High Surge 0.338\n",
      "Percentage of Surge that has Mid Surge 0.324\n"
     ]
    }
   ],
   "source": [
    "# Code to test No Surge vs Low Surge vs. High Surge\n",
    "\n",
    "count_nosurge = df['surge'] == 10\n",
    "count_surge = df['surge'] != 10\n",
    "surgedf = df[count_surge]\n",
    "\n",
    "count_highsurge = df['surge'] > 15\n",
    "count_lowsurge = surgedf['surge'] < 15\n",
    "count_midsurge = surgedf['surge'] == 15\n",
    "\n",
    "print 'Percentage of data that has surge %0.3f' % (float(sum(count_surge))/len(df_final))\n",
    "print 'Percentage of Surge that has Low Surge %0.3f' % (float(sum(count_lowsurge))/sum(count_surge))\n",
    "print 'Percentage of Surge that has High Surge %0.3f' % ((float(sum(count_highsurge))/sum(count_surge)))\n",
    "print 'Percentage of Surge that has Mid Surge %0.3f' % (float(sum(count_midsurge))/sum(count_surge))\n"
   ]
  },
  {
   "cell_type": "markdown",
   "metadata": {},
   "source": [
    "The above was just to see the relative size of the categories, as you can see I wanted to balance the categories and only found a small amount that actually have a surge. Should be mentioned in the write up."
   ]
  },
  {
   "cell_type": "code",
   "execution_count": 111,
   "metadata": {
    "collapsed": false
   },
   "outputs": [],
   "source": [
    "# split into training and test data\n",
    "itrain, itest = train_test_split(xrange(df_final.shape[0]), train_size=0.7)\n",
    "\n",
    "mask=np.ones(df_final.shape[0], dtype='int')\n",
    "mask[itrain]=1\n",
    "mask[itest]=0\n",
    "mask = (mask==1)\n",
    "\n",
    "#split training set into validation set if needed (not ended up needed)\n",
    "itrain, itest = train_test_split(xrange(df_final[mask].shape[0]), train_size=0.7)\n",
    "\n",
    "mask2 = np.ones(df_final[mask].shape[0], dtype = 'int')\n",
    "mask2[itrain] = 1\n",
    "mask2[itest] = 0\n",
    "mask2 = (mask2==1)\n"
   ]
  },
  {
   "cell_type": "code",
   "execution_count": 112,
   "metadata": {
    "collapsed": false
   },
   "outputs": [
    {
     "name": "stdout",
     "output_type": "stream",
     "text": [
      "['Clear' 'Rain' 'Cloudy']\n",
      "['UberSUV' 'uberXL' 'UberBlack' 'uberX' 'uberTAXI' 'uberSELECT']\n",
      "['Atlanta' 'San Francisco' 'New York' 'Washington' 'Boston']\n",
      "144\n",
      "<type 'numpy.int64'>\n"
     ]
    }
   ],
   "source": [
    "#Check data cleaning\n",
    "print df_final['weather'].unique()\n",
    "print df_final['cartype'].unique()\n",
    "print df_final['city'].unique()\n",
    "print len(df_final['time'].unique())\n",
    "print type(df_final['temperature'][0])"
   ]
  },
  {
   "cell_type": "markdown",
   "metadata": {},
   "source": [
    "This was only to test the data cleaning to make sure that it was cleaned well."
   ]
  },
  {
   "cell_type": "code",
   "execution_count": 113,
   "metadata": {
    "collapsed": false
   },
   "outputs": [
    {
     "data": {
      "text/html": [
       "<div>\n",
       "<table border=\"1\" class=\"dataframe\">\n",
       "  <thead>\n",
       "    <tr style=\"text-align: right;\">\n",
       "      <th></th>\n",
       "      <th>cartype=UberBlack</th>\n",
       "      <th>cartype=UberSUV</th>\n",
       "      <th>cartype=uberSELECT</th>\n",
       "      <th>cartype=uberTAXI</th>\n",
       "      <th>cartype=uberX</th>\n",
       "      <th>cartype=uberXL</th>\n",
       "      <th>city=Atlanta</th>\n",
       "      <th>city=Boston</th>\n",
       "      <th>city=New York</th>\n",
       "      <th>city=San Francisco</th>\n",
       "      <th>city=Washington</th>\n",
       "      <th>income=High</th>\n",
       "      <th>income=Low</th>\n",
       "      <th>income=Middle</th>\n",
       "      <th>temperature</th>\n",
       "      <th>time=0:0</th>\n",
       "      <th>time=0:10</th>\n",
       "      <th>time=0:20</th>\n",
       "      <th>time=0:30</th>\n",
       "      <th>time=0:40</th>\n",
       "      <th>time=0:50</th>\n",
       "      <th>time=10:0</th>\n",
       "      <th>time=10:10</th>\n",
       "      <th>time=10:20</th>\n",
       "      <th>time=10:30</th>\n",
       "      <th>time=10:40</th>\n",
       "      <th>time=10:50</th>\n",
       "      <th>time=11:0</th>\n",
       "      <th>time=11:10</th>\n",
       "      <th>time=11:20</th>\n",
       "      <th>time=11:30</th>\n",
       "      <th>time=11:40</th>\n",
       "      <th>time=11:50</th>\n",
       "      <th>time=12:0</th>\n",
       "      <th>time=12:10</th>\n",
       "      <th>time=12:20</th>\n",
       "      <th>time=12:30</th>\n",
       "      <th>time=12:40</th>\n",
       "      <th>time=12:50</th>\n",
       "      <th>time=13:0</th>\n",
       "      <th>time=13:10</th>\n",
       "      <th>time=13:20</th>\n",
       "      <th>time=13:30</th>\n",
       "      <th>time=13:40</th>\n",
       "      <th>time=13:50</th>\n",
       "      <th>time=14:0</th>\n",
       "      <th>time=14:10</th>\n",
       "      <th>time=14:20</th>\n",
       "      <th>time=14:30</th>\n",
       "      <th>time=14:40</th>\n",
       "      <th>...</th>\n",
       "      <th>time=3:20</th>\n",
       "      <th>time=3:30</th>\n",
       "      <th>time=3:40</th>\n",
       "      <th>time=3:50</th>\n",
       "      <th>time=4:0</th>\n",
       "      <th>time=4:10</th>\n",
       "      <th>time=4:20</th>\n",
       "      <th>time=4:30</th>\n",
       "      <th>time=4:40</th>\n",
       "      <th>time=4:50</th>\n",
       "      <th>time=5:0</th>\n",
       "      <th>time=5:10</th>\n",
       "      <th>time=5:20</th>\n",
       "      <th>time=5:30</th>\n",
       "      <th>time=5:40</th>\n",
       "      <th>time=5:50</th>\n",
       "      <th>time=6:0</th>\n",
       "      <th>time=6:10</th>\n",
       "      <th>time=6:20</th>\n",
       "      <th>time=6:30</th>\n",
       "      <th>time=6:40</th>\n",
       "      <th>time=6:50</th>\n",
       "      <th>time=7:0</th>\n",
       "      <th>time=7:10</th>\n",
       "      <th>time=7:20</th>\n",
       "      <th>time=7:30</th>\n",
       "      <th>time=7:40</th>\n",
       "      <th>time=7:50</th>\n",
       "      <th>time=8:0</th>\n",
       "      <th>time=8:10</th>\n",
       "      <th>time=8:20</th>\n",
       "      <th>time=8:30</th>\n",
       "      <th>time=8:40</th>\n",
       "      <th>time=8:50</th>\n",
       "      <th>time=9:0</th>\n",
       "      <th>time=9:10</th>\n",
       "      <th>time=9:20</th>\n",
       "      <th>time=9:30</th>\n",
       "      <th>time=9:40</th>\n",
       "      <th>time=9:50</th>\n",
       "      <th>weather=Clear</th>\n",
       "      <th>weather=Cloudy</th>\n",
       "      <th>weather=Rain</th>\n",
       "      <th>weekday=Friday</th>\n",
       "      <th>weekday=Monday</th>\n",
       "      <th>weekday=Saturday</th>\n",
       "      <th>weekday=Sunday</th>\n",
       "      <th>weekday=Thursday</th>\n",
       "      <th>weekday=Tuesday</th>\n",
       "      <th>weekday=Wednesday</th>\n",
       "    </tr>\n",
       "  </thead>\n",
       "  <tbody>\n",
       "    <tr>\n",
       "      <th>0</th>\n",
       "      <td>0</td>\n",
       "      <td>1</td>\n",
       "      <td>0</td>\n",
       "      <td>0</td>\n",
       "      <td>0</td>\n",
       "      <td>0</td>\n",
       "      <td>1</td>\n",
       "      <td>0</td>\n",
       "      <td>0</td>\n",
       "      <td>0</td>\n",
       "      <td>0</td>\n",
       "      <td>1</td>\n",
       "      <td>0</td>\n",
       "      <td>0</td>\n",
       "      <td>62</td>\n",
       "      <td>0</td>\n",
       "      <td>0</td>\n",
       "      <td>0</td>\n",
       "      <td>0</td>\n",
       "      <td>0</td>\n",
       "      <td>0</td>\n",
       "      <td>0</td>\n",
       "      <td>0</td>\n",
       "      <td>0</td>\n",
       "      <td>0</td>\n",
       "      <td>0</td>\n",
       "      <td>0</td>\n",
       "      <td>0</td>\n",
       "      <td>0</td>\n",
       "      <td>0</td>\n",
       "      <td>0</td>\n",
       "      <td>0</td>\n",
       "      <td>0</td>\n",
       "      <td>0</td>\n",
       "      <td>0</td>\n",
       "      <td>0</td>\n",
       "      <td>0</td>\n",
       "      <td>0</td>\n",
       "      <td>0</td>\n",
       "      <td>0</td>\n",
       "      <td>0</td>\n",
       "      <td>0</td>\n",
       "      <td>0</td>\n",
       "      <td>0</td>\n",
       "      <td>0</td>\n",
       "      <td>0</td>\n",
       "      <td>0</td>\n",
       "      <td>0</td>\n",
       "      <td>0</td>\n",
       "      <td>0</td>\n",
       "      <td>...</td>\n",
       "      <td>0</td>\n",
       "      <td>0</td>\n",
       "      <td>0</td>\n",
       "      <td>0</td>\n",
       "      <td>0</td>\n",
       "      <td>0</td>\n",
       "      <td>0</td>\n",
       "      <td>0</td>\n",
       "      <td>0</td>\n",
       "      <td>0</td>\n",
       "      <td>0</td>\n",
       "      <td>0</td>\n",
       "      <td>0</td>\n",
       "      <td>0</td>\n",
       "      <td>0</td>\n",
       "      <td>0</td>\n",
       "      <td>0</td>\n",
       "      <td>0</td>\n",
       "      <td>0</td>\n",
       "      <td>0</td>\n",
       "      <td>0</td>\n",
       "      <td>0</td>\n",
       "      <td>0</td>\n",
       "      <td>0</td>\n",
       "      <td>0</td>\n",
       "      <td>0</td>\n",
       "      <td>0</td>\n",
       "      <td>0</td>\n",
       "      <td>0</td>\n",
       "      <td>0</td>\n",
       "      <td>0</td>\n",
       "      <td>0</td>\n",
       "      <td>0</td>\n",
       "      <td>0</td>\n",
       "      <td>0</td>\n",
       "      <td>0</td>\n",
       "      <td>0</td>\n",
       "      <td>0</td>\n",
       "      <td>0</td>\n",
       "      <td>0</td>\n",
       "      <td>1</td>\n",
       "      <td>0</td>\n",
       "      <td>0</td>\n",
       "      <td>1</td>\n",
       "      <td>0</td>\n",
       "      <td>0</td>\n",
       "      <td>0</td>\n",
       "      <td>0</td>\n",
       "      <td>0</td>\n",
       "      <td>0</td>\n",
       "    </tr>\n",
       "    <tr>\n",
       "      <th>1</th>\n",
       "      <td>0</td>\n",
       "      <td>1</td>\n",
       "      <td>0</td>\n",
       "      <td>0</td>\n",
       "      <td>0</td>\n",
       "      <td>0</td>\n",
       "      <td>0</td>\n",
       "      <td>0</td>\n",
       "      <td>0</td>\n",
       "      <td>1</td>\n",
       "      <td>0</td>\n",
       "      <td>0</td>\n",
       "      <td>1</td>\n",
       "      <td>0</td>\n",
       "      <td>47</td>\n",
       "      <td>0</td>\n",
       "      <td>0</td>\n",
       "      <td>0</td>\n",
       "      <td>0</td>\n",
       "      <td>0</td>\n",
       "      <td>0</td>\n",
       "      <td>0</td>\n",
       "      <td>0</td>\n",
       "      <td>0</td>\n",
       "      <td>0</td>\n",
       "      <td>0</td>\n",
       "      <td>0</td>\n",
       "      <td>0</td>\n",
       "      <td>0</td>\n",
       "      <td>0</td>\n",
       "      <td>0</td>\n",
       "      <td>0</td>\n",
       "      <td>0</td>\n",
       "      <td>0</td>\n",
       "      <td>0</td>\n",
       "      <td>0</td>\n",
       "      <td>0</td>\n",
       "      <td>0</td>\n",
       "      <td>0</td>\n",
       "      <td>0</td>\n",
       "      <td>0</td>\n",
       "      <td>0</td>\n",
       "      <td>0</td>\n",
       "      <td>0</td>\n",
       "      <td>0</td>\n",
       "      <td>0</td>\n",
       "      <td>0</td>\n",
       "      <td>0</td>\n",
       "      <td>0</td>\n",
       "      <td>0</td>\n",
       "      <td>...</td>\n",
       "      <td>0</td>\n",
       "      <td>0</td>\n",
       "      <td>0</td>\n",
       "      <td>0</td>\n",
       "      <td>0</td>\n",
       "      <td>0</td>\n",
       "      <td>0</td>\n",
       "      <td>0</td>\n",
       "      <td>0</td>\n",
       "      <td>0</td>\n",
       "      <td>0</td>\n",
       "      <td>0</td>\n",
       "      <td>0</td>\n",
       "      <td>1</td>\n",
       "      <td>0</td>\n",
       "      <td>0</td>\n",
       "      <td>0</td>\n",
       "      <td>0</td>\n",
       "      <td>0</td>\n",
       "      <td>0</td>\n",
       "      <td>0</td>\n",
       "      <td>0</td>\n",
       "      <td>0</td>\n",
       "      <td>0</td>\n",
       "      <td>0</td>\n",
       "      <td>0</td>\n",
       "      <td>0</td>\n",
       "      <td>0</td>\n",
       "      <td>0</td>\n",
       "      <td>0</td>\n",
       "      <td>0</td>\n",
       "      <td>0</td>\n",
       "      <td>0</td>\n",
       "      <td>0</td>\n",
       "      <td>0</td>\n",
       "      <td>0</td>\n",
       "      <td>0</td>\n",
       "      <td>0</td>\n",
       "      <td>0</td>\n",
       "      <td>0</td>\n",
       "      <td>1</td>\n",
       "      <td>0</td>\n",
       "      <td>0</td>\n",
       "      <td>0</td>\n",
       "      <td>0</td>\n",
       "      <td>1</td>\n",
       "      <td>0</td>\n",
       "      <td>0</td>\n",
       "      <td>0</td>\n",
       "      <td>0</td>\n",
       "    </tr>\n",
       "    <tr>\n",
       "      <th>2</th>\n",
       "      <td>0</td>\n",
       "      <td>0</td>\n",
       "      <td>0</td>\n",
       "      <td>0</td>\n",
       "      <td>0</td>\n",
       "      <td>1</td>\n",
       "      <td>1</td>\n",
       "      <td>0</td>\n",
       "      <td>0</td>\n",
       "      <td>0</td>\n",
       "      <td>0</td>\n",
       "      <td>0</td>\n",
       "      <td>1</td>\n",
       "      <td>0</td>\n",
       "      <td>69</td>\n",
       "      <td>0</td>\n",
       "      <td>0</td>\n",
       "      <td>0</td>\n",
       "      <td>0</td>\n",
       "      <td>0</td>\n",
       "      <td>0</td>\n",
       "      <td>0</td>\n",
       "      <td>0</td>\n",
       "      <td>0</td>\n",
       "      <td>0</td>\n",
       "      <td>0</td>\n",
       "      <td>0</td>\n",
       "      <td>0</td>\n",
       "      <td>0</td>\n",
       "      <td>0</td>\n",
       "      <td>0</td>\n",
       "      <td>0</td>\n",
       "      <td>0</td>\n",
       "      <td>0</td>\n",
       "      <td>0</td>\n",
       "      <td>0</td>\n",
       "      <td>0</td>\n",
       "      <td>0</td>\n",
       "      <td>0</td>\n",
       "      <td>0</td>\n",
       "      <td>0</td>\n",
       "      <td>0</td>\n",
       "      <td>0</td>\n",
       "      <td>0</td>\n",
       "      <td>0</td>\n",
       "      <td>0</td>\n",
       "      <td>0</td>\n",
       "      <td>0</td>\n",
       "      <td>0</td>\n",
       "      <td>0</td>\n",
       "      <td>...</td>\n",
       "      <td>0</td>\n",
       "      <td>0</td>\n",
       "      <td>0</td>\n",
       "      <td>0</td>\n",
       "      <td>0</td>\n",
       "      <td>0</td>\n",
       "      <td>0</td>\n",
       "      <td>0</td>\n",
       "      <td>0</td>\n",
       "      <td>0</td>\n",
       "      <td>0</td>\n",
       "      <td>0</td>\n",
       "      <td>0</td>\n",
       "      <td>0</td>\n",
       "      <td>0</td>\n",
       "      <td>0</td>\n",
       "      <td>0</td>\n",
       "      <td>0</td>\n",
       "      <td>0</td>\n",
       "      <td>0</td>\n",
       "      <td>0</td>\n",
       "      <td>0</td>\n",
       "      <td>0</td>\n",
       "      <td>0</td>\n",
       "      <td>0</td>\n",
       "      <td>0</td>\n",
       "      <td>0</td>\n",
       "      <td>0</td>\n",
       "      <td>0</td>\n",
       "      <td>0</td>\n",
       "      <td>0</td>\n",
       "      <td>0</td>\n",
       "      <td>0</td>\n",
       "      <td>0</td>\n",
       "      <td>0</td>\n",
       "      <td>0</td>\n",
       "      <td>0</td>\n",
       "      <td>0</td>\n",
       "      <td>0</td>\n",
       "      <td>0</td>\n",
       "      <td>1</td>\n",
       "      <td>0</td>\n",
       "      <td>0</td>\n",
       "      <td>0</td>\n",
       "      <td>1</td>\n",
       "      <td>0</td>\n",
       "      <td>0</td>\n",
       "      <td>0</td>\n",
       "      <td>0</td>\n",
       "      <td>0</td>\n",
       "    </tr>\n",
       "    <tr>\n",
       "      <th>3</th>\n",
       "      <td>1</td>\n",
       "      <td>0</td>\n",
       "      <td>0</td>\n",
       "      <td>0</td>\n",
       "      <td>0</td>\n",
       "      <td>0</td>\n",
       "      <td>1</td>\n",
       "      <td>0</td>\n",
       "      <td>0</td>\n",
       "      <td>0</td>\n",
       "      <td>0</td>\n",
       "      <td>0</td>\n",
       "      <td>1</td>\n",
       "      <td>0</td>\n",
       "      <td>66</td>\n",
       "      <td>0</td>\n",
       "      <td>0</td>\n",
       "      <td>0</td>\n",
       "      <td>0</td>\n",
       "      <td>0</td>\n",
       "      <td>0</td>\n",
       "      <td>0</td>\n",
       "      <td>0</td>\n",
       "      <td>0</td>\n",
       "      <td>0</td>\n",
       "      <td>0</td>\n",
       "      <td>0</td>\n",
       "      <td>0</td>\n",
       "      <td>0</td>\n",
       "      <td>0</td>\n",
       "      <td>0</td>\n",
       "      <td>0</td>\n",
       "      <td>0</td>\n",
       "      <td>0</td>\n",
       "      <td>0</td>\n",
       "      <td>0</td>\n",
       "      <td>0</td>\n",
       "      <td>0</td>\n",
       "      <td>1</td>\n",
       "      <td>0</td>\n",
       "      <td>0</td>\n",
       "      <td>0</td>\n",
       "      <td>0</td>\n",
       "      <td>0</td>\n",
       "      <td>0</td>\n",
       "      <td>0</td>\n",
       "      <td>0</td>\n",
       "      <td>0</td>\n",
       "      <td>0</td>\n",
       "      <td>0</td>\n",
       "      <td>...</td>\n",
       "      <td>0</td>\n",
       "      <td>0</td>\n",
       "      <td>0</td>\n",
       "      <td>0</td>\n",
       "      <td>0</td>\n",
       "      <td>0</td>\n",
       "      <td>0</td>\n",
       "      <td>0</td>\n",
       "      <td>0</td>\n",
       "      <td>0</td>\n",
       "      <td>0</td>\n",
       "      <td>0</td>\n",
       "      <td>0</td>\n",
       "      <td>0</td>\n",
       "      <td>0</td>\n",
       "      <td>0</td>\n",
       "      <td>0</td>\n",
       "      <td>0</td>\n",
       "      <td>0</td>\n",
       "      <td>0</td>\n",
       "      <td>0</td>\n",
       "      <td>0</td>\n",
       "      <td>0</td>\n",
       "      <td>0</td>\n",
       "      <td>0</td>\n",
       "      <td>0</td>\n",
       "      <td>0</td>\n",
       "      <td>0</td>\n",
       "      <td>0</td>\n",
       "      <td>0</td>\n",
       "      <td>0</td>\n",
       "      <td>0</td>\n",
       "      <td>0</td>\n",
       "      <td>0</td>\n",
       "      <td>0</td>\n",
       "      <td>0</td>\n",
       "      <td>0</td>\n",
       "      <td>0</td>\n",
       "      <td>0</td>\n",
       "      <td>0</td>\n",
       "      <td>0</td>\n",
       "      <td>0</td>\n",
       "      <td>1</td>\n",
       "      <td>0</td>\n",
       "      <td>0</td>\n",
       "      <td>0</td>\n",
       "      <td>0</td>\n",
       "      <td>0</td>\n",
       "      <td>0</td>\n",
       "      <td>1</td>\n",
       "    </tr>\n",
       "    <tr>\n",
       "      <th>4</th>\n",
       "      <td>1</td>\n",
       "      <td>0</td>\n",
       "      <td>0</td>\n",
       "      <td>0</td>\n",
       "      <td>0</td>\n",
       "      <td>0</td>\n",
       "      <td>1</td>\n",
       "      <td>0</td>\n",
       "      <td>0</td>\n",
       "      <td>0</td>\n",
       "      <td>0</td>\n",
       "      <td>1</td>\n",
       "      <td>0</td>\n",
       "      <td>0</td>\n",
       "      <td>69</td>\n",
       "      <td>0</td>\n",
       "      <td>0</td>\n",
       "      <td>0</td>\n",
       "      <td>0</td>\n",
       "      <td>0</td>\n",
       "      <td>0</td>\n",
       "      <td>0</td>\n",
       "      <td>0</td>\n",
       "      <td>0</td>\n",
       "      <td>0</td>\n",
       "      <td>0</td>\n",
       "      <td>0</td>\n",
       "      <td>0</td>\n",
       "      <td>0</td>\n",
       "      <td>0</td>\n",
       "      <td>0</td>\n",
       "      <td>0</td>\n",
       "      <td>0</td>\n",
       "      <td>0</td>\n",
       "      <td>0</td>\n",
       "      <td>0</td>\n",
       "      <td>0</td>\n",
       "      <td>0</td>\n",
       "      <td>0</td>\n",
       "      <td>0</td>\n",
       "      <td>0</td>\n",
       "      <td>0</td>\n",
       "      <td>0</td>\n",
       "      <td>0</td>\n",
       "      <td>0</td>\n",
       "      <td>0</td>\n",
       "      <td>0</td>\n",
       "      <td>1</td>\n",
       "      <td>0</td>\n",
       "      <td>0</td>\n",
       "      <td>...</td>\n",
       "      <td>0</td>\n",
       "      <td>0</td>\n",
       "      <td>0</td>\n",
       "      <td>0</td>\n",
       "      <td>0</td>\n",
       "      <td>0</td>\n",
       "      <td>0</td>\n",
       "      <td>0</td>\n",
       "      <td>0</td>\n",
       "      <td>0</td>\n",
       "      <td>0</td>\n",
       "      <td>0</td>\n",
       "      <td>0</td>\n",
       "      <td>0</td>\n",
       "      <td>0</td>\n",
       "      <td>0</td>\n",
       "      <td>0</td>\n",
       "      <td>0</td>\n",
       "      <td>0</td>\n",
       "      <td>0</td>\n",
       "      <td>0</td>\n",
       "      <td>0</td>\n",
       "      <td>0</td>\n",
       "      <td>0</td>\n",
       "      <td>0</td>\n",
       "      <td>0</td>\n",
       "      <td>0</td>\n",
       "      <td>0</td>\n",
       "      <td>0</td>\n",
       "      <td>0</td>\n",
       "      <td>0</td>\n",
       "      <td>0</td>\n",
       "      <td>0</td>\n",
       "      <td>0</td>\n",
       "      <td>0</td>\n",
       "      <td>0</td>\n",
       "      <td>0</td>\n",
       "      <td>0</td>\n",
       "      <td>0</td>\n",
       "      <td>0</td>\n",
       "      <td>0</td>\n",
       "      <td>0</td>\n",
       "      <td>1</td>\n",
       "      <td>0</td>\n",
       "      <td>0</td>\n",
       "      <td>0</td>\n",
       "      <td>0</td>\n",
       "      <td>0</td>\n",
       "      <td>0</td>\n",
       "      <td>1</td>\n",
       "    </tr>\n",
       "  </tbody>\n",
       "</table>\n",
       "<p>5 rows × 169 columns</p>\n",
       "</div>"
      ],
      "text/plain": [
       "   cartype=UberBlack  cartype=UberSUV  cartype=uberSELECT  cartype=uberTAXI  cartype=uberX  cartype=uberXL  city=Atlanta  city=Boston  city=New York  city=San Francisco  city=Washington  income=High  income=Low  income=Middle  temperature  time=0:0  time=0:10  time=0:20  time=0:30  time=0:40  time=0:50  time=10:0  time=10:10  time=10:20  time=10:30  time=10:40  time=10:50  time=11:0  time=11:10  time=11:20  time=11:30  time=11:40  time=11:50  time=12:0  time=12:10  time=12:20  time=12:30  \\\n",
       "0                  0                1                   0                 0              0               0             1            0              0                   0                0            1           0              0           62         0          0          0          0          0          0          0           0           0           0           0           0          0           0           0           0           0           0          0           0           0           0   \n",
       "1                  0                1                   0                 0              0               0             0            0              0                   1                0            0           1              0           47         0          0          0          0          0          0          0           0           0           0           0           0          0           0           0           0           0           0          0           0           0           0   \n",
       "2                  0                0                   0                 0              0               1             1            0              0                   0                0            0           1              0           69         0          0          0          0          0          0          0           0           0           0           0           0          0           0           0           0           0           0          0           0           0           0   \n",
       "3                  1                0                   0                 0              0               0             1            0              0                   0                0            0           1              0           66         0          0          0          0          0          0          0           0           0           0           0           0          0           0           0           0           0           0          0           0           0           0   \n",
       "4                  1                0                   0                 0              0               0             1            0              0                   0                0            1           0              0           69         0          0          0          0          0          0          0           0           0           0           0           0          0           0           0           0           0           0          0           0           0           0   \n",
       "\n",
       "   time=12:40  time=12:50  time=13:0  time=13:10  time=13:20  time=13:30  time=13:40  time=13:50  time=14:0  time=14:10  time=14:20  time=14:30  time=14:40        ...          time=3:20  time=3:30  time=3:40  time=3:50  time=4:0  time=4:10  time=4:20  time=4:30  time=4:40  time=4:50  time=5:0  time=5:10  time=5:20  time=5:30  time=5:40  time=5:50  time=6:0  time=6:10  time=6:20  time=6:30  time=6:40  time=6:50  time=7:0  time=7:10  time=7:20  time=7:30  time=7:40  time=7:50  time=8:0  \\\n",
       "0           0           0          0           0           0           0           0           0          0           0           0           0           0        ...                  0          0          0          0         0          0          0          0          0          0         0          0          0          0          0          0         0          0          0          0          0          0         0          0          0          0          0          0         0   \n",
       "1           0           0          0           0           0           0           0           0          0           0           0           0           0        ...                  0          0          0          0         0          0          0          0          0          0         0          0          0          1          0          0         0          0          0          0          0          0         0          0          0          0          0          0         0   \n",
       "2           0           0          0           0           0           0           0           0          0           0           0           0           0        ...                  0          0          0          0         0          0          0          0          0          0         0          0          0          0          0          0         0          0          0          0          0          0         0          0          0          0          0          0         0   \n",
       "3           0           1          0           0           0           0           0           0          0           0           0           0           0        ...                  0          0          0          0         0          0          0          0          0          0         0          0          0          0          0          0         0          0          0          0          0          0         0          0          0          0          0          0         0   \n",
       "4           0           0          0           0           0           0           0           0          0           0           1           0           0        ...                  0          0          0          0         0          0          0          0          0          0         0          0          0          0          0          0         0          0          0          0          0          0         0          0          0          0          0          0         0   \n",
       "\n",
       "   time=8:10  time=8:20  time=8:30  time=8:40  time=8:50  time=9:0  time=9:10  time=9:20  time=9:30  time=9:40  time=9:50  weather=Clear  weather=Cloudy  weather=Rain  weekday=Friday  weekday=Monday  weekday=Saturday  weekday=Sunday  weekday=Thursday  weekday=Tuesday  weekday=Wednesday  \n",
       "0          0          0          0          0          0         0          0          0          0          0          0              1               0             0               1               0                 0               0                 0                0                  0  \n",
       "1          0          0          0          0          0         0          0          0          0          0          0              1               0             0               0               0                 1               0                 0                0                  0  \n",
       "2          0          0          0          0          0         0          0          0          0          0          0              1               0             0               0               1                 0               0                 0                0                  0  \n",
       "3          0          0          0          0          0         0          0          0          0          0          0              0               0             1               0               0                 0               0                 0                0                  1  \n",
       "4          0          0          0          0          0         0          0          0          0          0          0              0               0             1               0               0                 0               0                 0                0                  1  \n",
       "\n",
       "[5 rows x 169 columns]"
      ]
     },
     "execution_count": 113,
     "metadata": {},
     "output_type": "execute_result"
    }
   ],
   "source": [
    "#Create the X matrix\n",
    "Xvec_list = []\n",
    "for i in range(len(df_final)):\n",
    "    temp_dict = {}\n",
    "    temp_dict['city'] = dict_final['city'][i]\n",
    "    temp_dict['cartype'] = dict_final['cartype'][i]\n",
    "    temp_dict['income'] = dict_final['income'][i]\n",
    "    temp_dict['temperature'] = dict_final['temperature'][i]\n",
    "    temp_dict['time'] = dict_final['time'][i]\n",
    "    temp_dict['weather'] = dict_final['weather'][i]\n",
    "    temp_dict['weekday'] = dict_final['weekday'][i]\n",
    "    Xvec_list.append(temp_dict)\n",
    "\n",
    "vec = DictVectorizer()\n",
    "vec.fit_transform(Xvec_list)\n",
    "fcolumns = vec.get_feature_names()\n",
    "data = vec.fit_transform(Xvec_list).toarray()\n",
    "X_final = pd.DataFrame(data = data, columns = fcolumns)\n",
    "X_final.head()"
   ]
  },
  {
   "cell_type": "markdown",
   "metadata": {},
   "source": [
    "This is just using DictVectorizer in order to create categorical dummy variables for each categorical variables. This leaves the only numerical variable 'temperature' alone. This creates the X columns to be passed into the models."
   ]
  },
  {
   "cell_type": "code",
   "execution_count": 114,
   "metadata": {
    "collapsed": false
   },
   "outputs": [
    {
     "data": {
      "text/html": [
       "<div>\n",
       "<table border=\"1\" class=\"dataframe\">\n",
       "  <thead>\n",
       "    <tr style=\"text-align: right;\">\n",
       "      <th></th>\n",
       "      <th>surge=High Surge</th>\n",
       "      <th>surge=Low Surge</th>\n",
       "      <th>surge=Mid Surge</th>\n",
       "      <th>surge=No Surge</th>\n",
       "    </tr>\n",
       "  </thead>\n",
       "  <tbody>\n",
       "    <tr>\n",
       "      <th>0</th>\n",
       "      <td>0</td>\n",
       "      <td>0</td>\n",
       "      <td>0</td>\n",
       "      <td>1</td>\n",
       "    </tr>\n",
       "    <tr>\n",
       "      <th>1</th>\n",
       "      <td>0</td>\n",
       "      <td>0</td>\n",
       "      <td>0</td>\n",
       "      <td>1</td>\n",
       "    </tr>\n",
       "    <tr>\n",
       "      <th>2</th>\n",
       "      <td>0</td>\n",
       "      <td>0</td>\n",
       "      <td>0</td>\n",
       "      <td>1</td>\n",
       "    </tr>\n",
       "    <tr>\n",
       "      <th>3</th>\n",
       "      <td>0</td>\n",
       "      <td>0</td>\n",
       "      <td>0</td>\n",
       "      <td>1</td>\n",
       "    </tr>\n",
       "    <tr>\n",
       "      <th>4</th>\n",
       "      <td>0</td>\n",
       "      <td>0</td>\n",
       "      <td>0</td>\n",
       "      <td>1</td>\n",
       "    </tr>\n",
       "  </tbody>\n",
       "</table>\n",
       "</div>"
      ],
      "text/plain": [
       "   surge=High Surge  surge=Low Surge  surge=Mid Surge  surge=No Surge\n",
       "0                 0                0                0               1\n",
       "1                 0                0                0               1\n",
       "2                 0                0                0               1\n",
       "3                 0                0                0               1\n",
       "4                 0                0                0               1"
      ]
     },
     "execution_count": 114,
     "metadata": {},
     "output_type": "execute_result"
    }
   ],
   "source": [
    "#Create the Y matrix\n",
    "Yvec_list = []\n",
    "for i in range(len(df)):\n",
    "    temp_dict = {}\n",
    "    temp_dict['surge'] = dict_final['surge'][i]\n",
    "    Yvec_list.append(temp_dict)\n",
    "\n",
    "vec2 = DictVectorizer()\n",
    "vec2.fit_transform(Yvec_list)\n",
    "columns = vec2.get_feature_names()\n",
    "data = vec2.fit_transform(Yvec_list).toarray()\n",
    "Y_final = pd.DataFrame(data = data, columns = columns)\n",
    "Y_final.head()"
   ]
  },
  {
   "cell_type": "markdown",
   "metadata": {},
   "source": [
    "Creating the Y variable for **Random Forest only** as it needs the categories in dummy variables. The Logistic Regression Y variable will be created later."
   ]
  },
  {
   "cell_type": "code",
   "execution_count": 115,
   "metadata": {
    "collapsed": false
   },
   "outputs": [],
   "source": [
    "#Train and test sets and a validation set to be used if needed \n",
    "#(I ended up just using the cross validation function which does the validation set for us)\n",
    "X = X_final[mask]\n",
    "Y = Y_final[mask]\n",
    "X_train = X[mask2]\n",
    "Y_train = Y[mask2]\n",
    "X_Val = X[~mask2]\n",
    "Y_Val = Y[~mask2]\n",
    "X_test = X_final[~mask]\n",
    "Y_test = Y_final[~mask]"
   ]
  },
  {
   "cell_type": "code",
   "execution_count": 116,
   "metadata": {
    "collapsed": true
   },
   "outputs": [],
   "source": [
    "# Use cv_optimize writen in hw3\n",
    "def cv_optimize(clf, parameters, X, y, n_folds= 5, score_func= None):\n",
    "    clftemp = GridSearchCV(clf, parameters, cv = n_folds, score_func=score_func )\n",
    "    clftemp.fit(X, y)\n",
    "    best = clftemp.best_estimator_\n",
    "    params = clftemp.best_params_\n",
    "    print best\n",
    "    return best, params"
   ]
  },
  {
   "cell_type": "markdown",
   "metadata": {},
   "source": [
    "This is where we do the cross validation to find the best parameters to use for the given model (Random Forest or Logistic Regression). It takes in a model (clf) and dict of parameters to be checked over, and finds the optimal model."
   ]
  },
  {
   "cell_type": "code",
   "execution_count": 117,
   "metadata": {
    "collapsed": true
   },
   "outputs": [],
   "source": [
    "#parameter dictionary to be passed into cv_optimize\n",
    "parameters_dict = {}\n",
    "parameters_dict['max_features'] = ['auto', 'sqrt', 'log2', None]\n",
    "parameters_dict['class_weight'] = ['subsample']\n",
    "parameters_dict['max_depth'] = [None]"
   ]
  },
  {
   "cell_type": "markdown",
   "metadata": {},
   "source": [
    "The parameters to be checked for Random Forest. When optimizing a Random Forest, you only need to optimize the \"max features\" hyperparameter, which chooses the number of parameters that are used for each split to cause variance within the trees (strengthens the prediction). You also need to optimize the number of trees to be built, but this optimization comes later as you will see."
   ]
  },
  {
   "cell_type": "code",
   "execution_count": 118,
   "metadata": {
    "collapsed": false,
    "scrolled": true
   },
   "outputs": [
    {
     "name": "stdout",
     "output_type": "stream",
     "text": [
      "RandomForestClassifier(bootstrap=True, class_weight='subsample',\n",
      "            criterion='gini', max_depth=None, max_features='sqrt',\n",
      "            max_leaf_nodes=None, min_samples_leaf=1, min_samples_split=2,\n",
      "            min_weight_fraction_leaf=0.0, n_estimators=10, n_jobs=1,\n",
      "            oob_score=True, random_state=None, verbose=0, warm_start=False)\n"
     ]
    }
   ],
   "source": [
    "#optimize the best predictor for random forest\n",
    "rf = RandomForestClassifier(oob_score = True)\n",
    "rf2, rf2params = cv_optimize(rf,parameters_dict, X_train, Y_train)"
   ]
  },
  {
   "cell_type": "code",
   "execution_count": 119,
   "metadata": {
    "collapsed": false
   },
   "outputs": [
    {
     "data": {
      "text/plain": [
       "{'class_weight': 'subsample', 'max_depth': None, 'max_features': 'sqrt'}"
      ]
     },
     "execution_count": 119,
     "metadata": {},
     "output_type": "execute_result"
    }
   ],
   "source": [
    "#best predictor\n",
    "rf2 = RandomForestClassifier(class_weight = rf2params['class_weight'],\n",
    "                             max_depth = rf2params['max_depth'], max_features = rf2params['max_features'], oob_score = True)\n",
    "rf2params"
   ]
  },
  {
   "cell_type": "code",
   "execution_count": 120,
   "metadata": {
    "collapsed": false
   },
   "outputs": [],
   "source": [
    "#See how prediction evolves over the amount of trees in random forest\n",
    "#note: will always increase with more trees, but reaches a \"limit\" where it just takes forever to train the model,\n",
    "#so pick a place where this is optimal by a time prespective\n",
    "\n",
    "num_trees = range(10,110,10)\n",
    "scores = []\n",
    "for i in range(len(num_trees)):\n",
    "    rf2 = RandomForestClassifier(n_estimators = num_trees[i],\n",
    "                                 class_weight = 'subsample', \n",
    "                                 max_depth = rf2params['max_depth'],\n",
    "                                oob_score = True)\n",
    "    rf2.fit(X,Y)\n",
    "    scores.append(rf2.score(X_test,Y_test))"
   ]
  },
  {
   "cell_type": "code",
   "execution_count": 121,
   "metadata": {
    "collapsed": false
   },
   "outputs": [
    {
     "data": {
      "image/png": "[encoded data removed]",
      "text/plain": [
       "<matplotlib.figure.Figure at 0x361a32e8>"
      ]
     },
     "metadata": {},
     "output_type": "display_data"
    }
   ],
   "source": [
    "#show plot of error and number of trees in classifier\n",
    "plt.plot(scores)\n",
    "plt.xticks(np.arange(10),num_trees)\n",
    "plt.ylabel('Classification Error')\n",
    "plt.xlabel('Number of Trees')\n",
    "plt.title('Error by Number of Classification Trees')\n",
    "plt.grid('off')\n",
    "plt.show()"
   ]
  },
  {
   "cell_type": "markdown",
   "metadata": {},
   "source": [
    "Here is where I see where the optimal number of trees to be built is. So, the more trees you build the better the prediction will be in theory, but if you build 100,000 trees a lot of them will be redundent and it will take FOREVER to train and test. Therefore, this graph shows that after about 20 trees the model's prediction power levels off. I end up using more trees just to be safe and end up using 80 in the next block of code below. This seems to be a good number to optimize the predictive power while not taking forever to create."
   ]
  },
  {
   "cell_type": "code",
   "execution_count": 122,
   "metadata": {
    "collapsed": false
   },
   "outputs": [
    {
     "name": "stdout",
     "output_type": "stream",
     "text": [
      "0.958904409511\n",
      "0.981918327516\n"
     ]
    }
   ],
   "source": [
    "#check the score on the test set for overfitting\n",
    "rf2 = RandomForestClassifier(n_estimators = 90,\n",
    "                             class_weight = rf2params['class_weight'], \n",
    "                             max_depth = rf2params['max_depth'],\n",
    "                            oob_score = True)\n",
    "rf2.fit(X,Y)\n",
    "print rf2.score(X_test,Y_test)\n",
    "print rf2.score(X,Y)"
   ]
  },
  {
   "cell_type": "code",
   "execution_count": 123,
   "metadata": {
    "collapsed": false
   },
   "outputs": [
    {
     "data": {
      "text/plain": [
       "0.1356345545280804"
      ]
     },
     "execution_count": 123,
     "metadata": {},
     "output_type": "execute_result"
    },
    {
     "data": {
      "image/png": "[encoded data removed]",
      "text/plain": [
       "<matplotlib.figure.Figure at 0x63056eb8>"
      ]
     },
     "metadata": {},
     "output_type": "display_data"
    }
   ],
   "source": [
    "#plot the feature importances\n",
    "features = rf2.feature_importances_\n",
    "plt.bar(np.arange(len(features)),features)\n",
    "max(features)"
   ]
  },
  {
   "cell_type": "code",
   "execution_count": 124,
   "metadata": {
    "collapsed": false
   },
   "outputs": [
    {
     "name": "stdout",
     "output_type": "stream",
     "text": [
      "0.135634554528\n",
      "temperature\n",
      "0.0188267492745\n",
      "weekday=Wednesday\n"
     ]
    }
   ],
   "source": [
    "#Temperature seems to be the best predictor at this point\n",
    "print features[14]\n",
    "print fcolumns[14]\n",
    "print features[len(features)-1]\n",
    "print fcolumns[len(features)-1]"
   ]
  },
  {
   "cell_type": "markdown",
   "metadata": {},
   "source": [
    "This is the block of code that looks at feature importance. I will have to look more into this. So the higher the bar is on the graph the higher the importance on the split that was used. In order to look more into what each bar is look at the second block of code. Saved in the variable \"features\" is the actual number of the predictive power. Saved in the variable \"fcolumns\" is the label for that feature. In the final presentation of the project, this is where we will find the most important features and how we can use them in order to have an output that makes sense. We will add something like the graph above, but obviously more accessable in order to better see the results that we are given. The code above will give us the ability to look into the featuers."
   ]
  },
  {
   "cell_type": "code",
   "execution_count": 125,
   "metadata": {
    "collapsed": false
   },
   "outputs": [
    {
     "data": {
      "text/plain": [
       "[array([[ 1.        ,  0.        ],\n",
       "        [ 0.99425737,  0.00574263],\n",
       "        [ 0.97777778,  0.02222222],\n",
       "        ..., \n",
       "        [ 1.        ,  0.        ],\n",
       "        [ 1.        ,  0.        ],\n",
       "        [ 1.        ,  0.        ]]), array([[ 1.        ,  0.        ],\n",
       "        [ 0.97241249,  0.02758751],\n",
       "        [ 0.92224494,  0.07775506],\n",
       "        ..., \n",
       "        [ 1.        ,  0.        ],\n",
       "        [ 1.        ,  0.        ],\n",
       "        [ 1.        ,  0.        ]]), array([[ 1.,  0.],\n",
       "        [ 1.,  0.],\n",
       "        [ 1.,  0.],\n",
       "        ..., \n",
       "        [ 1.,  0.],\n",
       "        [ 1.,  0.],\n",
       "        [ 1.,  0.]]), array([[ 0.        ,  1.        ],\n",
       "        [ 0.03333014,  0.96666986],\n",
       "        [ 0.09997729,  0.90002271],\n",
       "        ..., \n",
       "        [ 0.        ,  1.        ],\n",
       "        [ 0.        ,  1.        ],\n",
       "        [ 0.        ,  1.        ]])]"
      ]
     },
     "execution_count": 125,
     "metadata": {},
     "output_type": "execute_result"
    }
   ],
   "source": [
    "rf2.predict_proba(X_test)"
   ]
  },
  {
   "cell_type": "markdown",
   "metadata": {},
   "source": [
    "This is an important thing for Tiner's website \"app.\" So the predict_proba function gives the probability of *each datapoint* of being in each class. So the output is as follows. There are 4 sets of arrays. The first one is the probability that each data point is in \"High Surge\" with the first number being the prob that it is not high surge, and the second number bing the prob that it is a high surge. The second array is the same thing for Low, then Mid, and finally No surge."
   ]
  },
  {
   "cell_type": "code",
   "execution_count": 126,
   "metadata": {
    "collapsed": false
   },
   "outputs": [
    {
     "data": {
      "text/plain": [
       "0    No Surge\n",
       "1    No Surge\n",
       "3    No Surge\n",
       "4    No Surge\n",
       "7    No Surge\n",
       "Name: surge, dtype: object"
      ]
     },
     "execution_count": 126,
     "metadata": {},
     "output_type": "execute_result"
    }
   ],
   "source": [
    "# Fix the Y variable for Logistic Regression\n",
    "df_final['surge'].head()\n",
    "Y_lreg = df_final['surge'][mask]\n",
    "Y_lregtest = df_final['surge'][~mask]\n",
    "Y_lreg.head()"
   ]
  },
  {
   "cell_type": "markdown",
   "metadata": {},
   "source": [
    "This just creates the Y variable to be passed into Logistic Regression"
   ]
  },
  {
   "cell_type": "code",
   "execution_count": 127,
   "metadata": {
    "collapsed": true
   },
   "outputs": [],
   "source": [
    "#parameters to be tested for Logistic Regression\n",
    "lreg_paramdict = {}\n",
    "lreg_paramdict['C'] = [0.001, 0.01, 0.1, 1.0, 10.0, 100.0]\n",
    "lreg_paramdict['penalty'] = ['l1','l2']\n",
    "lreg_paramdict['multi_class'] = ['ovr']\n",
    "lreg_paramdict['class_weight'] = ['auto',None]"
   ]
  },
  {
   "cell_type": "markdown",
   "metadata": {},
   "source": [
    "This are the parameters to be checked for Logistic Regression. Let me just explain this part. It is more complicated with regularization and such. For the write up, I'll just write this part."
   ]
  },
  {
   "cell_type": "code",
   "execution_count": 128,
   "metadata": {
    "collapsed": false
   },
   "outputs": [
    {
     "name": "stdout",
     "output_type": "stream",
     "text": [
      "LogisticRegression(C=0.001, class_weight=None, dual=False, fit_intercept=True,\n",
      "          intercept_scaling=1, max_iter=100, multi_class='ovr',\n",
      "          penalty='l1', random_state=None, solver='lbfgs', tol=0.0001,\n",
      "          verbose=0)\n"
     ]
    }
   ],
   "source": [
    "# optimize parameters for logistic regression\n",
    "lreg = LogisticRegression(solver ='lbfgs' )\n",
    "lreg2, lregparams = cv_optimize(lreg,lreg_paramdict, X, Y_lreg)"
   ]
  },
  {
   "cell_type": "code",
   "execution_count": 129,
   "metadata": {
    "collapsed": false
   },
   "outputs": [
    {
     "name": "stdout",
     "output_type": "stream",
     "text": [
      "0.959980107345\n",
      "0.959889652756\n"
     ]
    }
   ],
   "source": [
    "lreg2 = LogisticRegression(solver ='lbfgs', C = lregparams['C'], class_weight = lregparams['class_weight'],\n",
    "                           multi_class = lregparams['multi_class'], penalty = lregparams['penalty'] )\n",
    "lreg2.fit(X,Y_lreg)\n",
    "print lreg2.score(X,Y_lreg)\n",
    "print lreg2.score(X_test,Y_lregtest)"
   ]
  },
  {
   "cell_type": "markdown",
   "metadata": {},
   "source": [
    "Optimize over the Logistic regresssion parameters and see the prediction given. Again i will describe this part."
   ]
  },
  {
   "cell_type": "code",
   "execution_count": 130,
   "metadata": {
    "collapsed": false
   },
   "outputs": [
    {
     "data": {
      "text/plain": [
       "array([[ 0.00518183,  0.00625418,  0.00994455,  0.97861945],\n",
       "       [ 0.01590799,  0.0164415 ,  0.01519367,  0.95245684],\n",
       "       [ 0.02179111,  0.01923667,  0.01794396,  0.94102827],\n",
       "       ..., \n",
       "       [ 0.01108334,  0.01209312,  0.01232567,  0.96449786],\n",
       "       [ 0.00875874,  0.00989483,  0.01276466,  0.96858177],\n",
       "       [ 0.0068804 ,  0.00807891,  0.01009549,  0.9749452 ]])"
      ]
     },
     "execution_count": 130,
     "metadata": {},
     "output_type": "execute_result"
    }
   ],
   "source": [
    "lreg2.predict_proba(X_test)"
   ]
  },
  {
   "cell_type": "markdown",
   "metadata": {},
   "source": [
    "This is the equvalent to the Random Forest predict_proba, but the output is different. The function outputs an array for each data point and a probability that data point is in each class. As you can see, these probabilities show more of a uncertainty for each class. The first number is probability in High, Low, Mid, then No surge."
   ]
  },
  {
   "cell_type": "code",
   "execution_count": 131,
   "metadata": {
    "collapsed": false
   },
   "outputs": [
    {
     "data": {
      "text/plain": [
       "0.022842776910601381"
      ]
     },
     "execution_count": 131,
     "metadata": {},
     "output_type": "execute_result"
    }
   ],
   "source": [
    "lreg2.coef_[3][21]"
   ]
  },
  {
   "cell_type": "markdown",
   "metadata": {},
   "source": [
    "If we end up using Logistic regression, let me do this and I will deal with more of the analysis of this part."
   ]
  }
 ],
 "metadata": {
  "kernelspec": {
   "display_name": "Python 2",
   "language": "python",
   "name": "python2"
  },
  "language_info": {
   "codemirror_mode": {
    "name": "ipython",
    "version": 2
   },
   "file_extension": ".py",
   "mimetype": "text/x-python",
   "name": "python",
   "nbconvert_exporter": "python",
   "pygments_lexer": "ipython2",
   "version": "2.7.10"
  }
 },
 "nbformat": 4,
 "nbformat_minor": 0
}
