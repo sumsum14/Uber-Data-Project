{
 "cells": [
  {
   "cell_type": "markdown",
   "metadata": {},
   "source": [
    "#Uber Surge Pricing"
   ]
  },
  {
   "cell_type": "code",
   "execution_count": 1,
   "metadata": {
    "collapsed": true
   },
   "outputs": [],
   "source": [
    "%matplotlib inline\n",
    "import numpy as np\n",
    "import scipy as sp\n",
    "import matplotlib as mpl\n",
    "import matplotlib.cm as cm\n",
    "import matplotlib.pyplot as plt\n",
    "import pandas as pd\n",
    "pd.set_option('display.width', 500)\n",
    "pd.set_option('display.max_columns', 100)\n",
    "pd.set_option('display.notebook_repr_html', True)\n",
    "import seaborn as sns\n",
    "sns.set_style(\"whitegrid\")\n",
    "sns.set_context(\"poster\")\n",
    "import csv\n",
    "import plotly\n",
    "import plotly.plotly as py\n",
    "import plotly.graph_objs as go\n",
    "py.sign_in('traber', 'cemxgoz1su')"
   ]
  },
  {
   "cell_type": "markdown",
   "metadata": {},
   "source": [
    "##Overview and Motivation"
   ]
  },
  {
   "cell_type": "markdown",
   "metadata": {},
   "source": [
    "Uber is a mobile application that provides nearby car-service for users. Through the application, a user can request a car at a specific location and the user is notified how long it will take for the car to arrive. The standard fare is based on time and distance traveled. If the demand for car-service exceeds the supply of available cars, then Uber applies a surge price to the fare. The surge can be anywhere from 1.1 - 50.0 times the standard fare.\n",
    "\n",
    "\n",
    "We wanted to explore Uber’s concept of surge pricing by conducting an analysis of which factors affect surge pricing the most. This was particularly interesting to us because Uber’s API was just recently made public, so there have not been many predictive/analytical projects looking at surge pricing. This gives us a novel opportunity to explore data that affects our daily lives, and to incorporate several of the statistics and computational methodologies that we learned this semester. The data set that we have compiled can also allow us to look at many different variables and their effect on surge pricing. For example, we will look at how temperature and weather affect the surge charge on an uber. Also, should someone call the Uber now, or if they have time wait an hour or two in order to try and find a better price? We all use Uber, and love the service; however, we wanted to create a predictive model in order to find the times that we do not have to be charged extra money!"
   ]
  },
  {
   "cell_type": "markdown",
   "metadata": {},
   "source": [
    "## Related Work"
   ]
  },
  {
   "cell_type": "markdown",
   "metadata": {},
   "source": [
    "Lecture 6: Storytelling \n",
    "\n",
    "We read this research paper from the University of Chicago on surge pricings.\n",
    "http://faculty.chicagobooth.edu/chris.nosko/research/effects_of_uber's_surge_pricing.pdf\n",
    "\n",
    "We read this article at the beginning of our project to get an idea of how Uber surge works.\n",
    "https://www.washingtonpost.com/news/wonk/wp/2015/04/17/how-uber-surge-pricing-really-works/\n",
    "\n"
   ]
  },
  {
   "cell_type": "markdown",
   "metadata": {},
   "source": [
    "##Initial Questions"
   ]
  },
  {
   "cell_type": "markdown",
   "metadata": {},
   "source": [
    "Initially the main question we were trying to answer was “Can we predict what uber’s surge pricing is going to be based on an input of relevant conditions?”. As we started to accumulate and explore the data through cleanup we narrowed down the relevant conditions for our analysis to be time, weather conditions, temperature, income, and location.  \n",
    "\n",
    "We used Amazon Web Services DynamoDB to make requests to Uber’s API as well as a weather underground API every 5 minutes with the following code:\n",
    "\n"
   ]
  },
  {
   "cell_type": "code",
   "execution_count": 4,
   "metadata": {
    "collapsed": false
   },
   "outputs": [],
   "source": [
    "\n",
    "# import csv\n",
    "# import datetime\n",
    "# import hashlib\n",
    "# import logging\n",
    "# import requests\n",
    "# import time\n",
    "\n",
    "# from boto.dynamodb2.table import Table\n",
    "# from boto import s3\n",
    "\n",
    "# logging.basicConfig(filename='{:%Y%m%d%H%M}.log'.format(datetime.datetime.now()),\n",
    "#                     format='%(asctime)s %(message)s',\n",
    "#                     level=logging.WARN)\n",
    "# w_url = 'http://api.wunderground.com/api/<your wunderground token here>/conditions/q/{lat},{lon}.json'\n",
    "# u_db = Table('uber')\n",
    "# u_url = 'https://api.uber.com/v1/estimates/price'\n",
    "# u_server_token = <your uber token here>\n",
    "\n",
    "# coordinates = [line for line in csv.DictReader(open('coordinates.csv', 'r'))]\n",
    "\n",
    "# # Start an infinite loop.\n",
    "# while True:\n",
    "    \n",
    "#     for coord in coordinates:\n",
    "#         # Make weather request.\n",
    "#         response = requests.get(w_url.format(**coord))\n",
    "        \n",
    "#         # Log and continue to next iteration if the request is not successful.\n",
    "#         if response.status_code != requests.codes.ok:\n",
    "#             logging.error('Unable to get weather data for {lat}, {lon}'.format(**coord))\n",
    "#             continue\n",
    "            \n",
    "#         weather = response.json()\n",
    "        \n",
    "#         # Prepare Uber request.\n",
    "#         params = {\n",
    "#             'server_token': u_server_token,\n",
    "#             'start_latitude': coord['lat'],\n",
    "#             'start_longitude': coord['lon'],\n",
    "#             'end_latitude': coord['lat'],\n",
    "#             'end_longitude': coord['lon'],\n",
    "#         }\n",
    "        \n",
    "#         # Make Uber request.\n",
    "#         response = requests.get(u_url, params=params)\n",
    "        \n",
    "#         # Log and continue to next iteration if the request is not successful.\n",
    "#         if response.status_code != requests.codes.ok:\n",
    "#             logging.error('Unable to get Uber data for {lat}, {lon}'.format(**coord))\n",
    "#             continue        \n",
    "        \n",
    "#         data = response.json()\n",
    "        \n",
    "#         # Save response time to use as timestamp.\n",
    "#         resp_time = response.headers.get('Date')\n",
    "        \n",
    "#         for product in data['prices']:\n",
    "            \n",
    "#             logging.warn('Adding {} in {} to database.'.format(\n",
    "#                 product['display_name'],\n",
    "#                 weather['current_observation']['display_location']['state']\n",
    "#             ))\n",
    "            \n",
    "#             u_db.put_item(data={\n",
    "#                 # Hash fields to create unique keys.\n",
    "#                 '_id': hashlib.md5(\n",
    "#                     (product['display_name'] +\n",
    "#                      weather['current_observation']['display_location']['full'] +\n",
    "#                      coord['income'] +\n",
    "#                      resp_time).encode()\n",
    "#                     ).hexdigest(),\n",
    "#                 'income': coord['income'],\n",
    "#                 'time': resp_time,\n",
    "#                 'product': product['display_name'],\n",
    "#                 'surge': product['surge_multiplier'],\n",
    "#                 'city': weather['current_observation']['display_location']['city'],\n",
    "#                 'state': weather['current_observation']['display_location']['state'],\n",
    "#                 'weather': weather['current_observation']['weather'],\n",
    "#                 'temp': round(weather['current_observation']['temp_f']) \n",
    "                \n",
    "#             })\n",
    "\n",
    "#     # Sleep for 5 minutes (300 seconds).\n",
    "#     time.sleep(300)\n"
   ]
  },
  {
   "cell_type": "markdown",
   "metadata": {},
   "source": [
    "##Cleaning the Data"
   ]
  },
  {
   "cell_type": "code",
   "execution_count": 2,
   "metadata": {
    "collapsed": false
   },
   "outputs": [
    {
     "data": {
      "text/html": [
       "<div>\n",
       "<table border=\"1\" class=\"dataframe\">\n",
       "  <thead>\n",
       "    <tr style=\"text-align: right;\">\n",
       "      <th></th>\n",
       "      <th>time</th>\n",
       "      <th>city</th>\n",
       "      <th>income</th>\n",
       "      <th>state</th>\n",
       "      <th>product</th>\n",
       "      <th>_id</th>\n",
       "      <th>temp</th>\n",
       "      <th>surge</th>\n",
       "      <th>weather</th>\n",
       "    </tr>\n",
       "  </thead>\n",
       "  <tbody>\n",
       "    <tr>\n",
       "      <th>0</th>\n",
       "      <td>Fri, 20 Nov 2015 22:19:52 GMT</td>\n",
       "      <td>Atlanta</td>\n",
       "      <td>High</td>\n",
       "      <td>GA</td>\n",
       "      <td>UberSUV</td>\n",
       "      <td>b605b0b06730c256bc90499b6c53afaf</td>\n",
       "      <td>62</td>\n",
       "      <td>1</td>\n",
       "      <td>Clear</td>\n",
       "    </tr>\n",
       "    <tr>\n",
       "      <th>1</th>\n",
       "      <td>Sat, 28 Nov 2015 13:39:55 GMT</td>\n",
       "      <td>San Francisco</td>\n",
       "      <td>Low</td>\n",
       "      <td>CA</td>\n",
       "      <td>UberSUV</td>\n",
       "      <td>5ac25b0bb4283ddcd818a07d5e7507d5</td>\n",
       "      <td>47</td>\n",
       "      <td>1</td>\n",
       "      <td>Clear</td>\n",
       "    </tr>\n",
       "    <tr>\n",
       "      <th>2</th>\n",
       "      <td>Thu, 03 Dec 2015 12:26:05 GMT</td>\n",
       "      <td>Washington</td>\n",
       "      <td>Middle</td>\n",
       "      <td>DC</td>\n",
       "      <td>UberBLACK</td>\n",
       "      <td>8c973b036ce2d06c5b26f789a0f5fab5</td>\n",
       "      <td>40</td>\n",
       "      <td>1</td>\n",
       "      <td>Clear</td>\n",
       "    </tr>\n",
       "    <tr>\n",
       "      <th>3</th>\n",
       "      <td>Mon, 30 Nov 2015 03:16:49 GMT</td>\n",
       "      <td>Atlanta</td>\n",
       "      <td>Low</td>\n",
       "      <td>GA</td>\n",
       "      <td>uberXL</td>\n",
       "      <td>a209e7632350d72f82aff073fc406563</td>\n",
       "      <td>69</td>\n",
       "      <td>1</td>\n",
       "      <td>Overcast</td>\n",
       "    </tr>\n",
       "    <tr>\n",
       "      <th>4</th>\n",
       "      <td>Wed, 18 Nov 2015 17:54:37 GMT</td>\n",
       "      <td>Atlanta</td>\n",
       "      <td>Low</td>\n",
       "      <td>GA</td>\n",
       "      <td>UberBLACK</td>\n",
       "      <td>06acbfc4f40ff6cb6ef15a8755945079</td>\n",
       "      <td>66</td>\n",
       "      <td>1</td>\n",
       "      <td>Rain</td>\n",
       "    </tr>\n",
       "  </tbody>\n",
       "</table>\n",
       "</div>"
      ],
      "text/plain": [
       "                            time           city  income state    product                               _id  temp  surge   weather\n",
       "0  Fri, 20 Nov 2015 22:19:52 GMT        Atlanta    High    GA    UberSUV  b605b0b06730c256bc90499b6c53afaf    62      1     Clear\n",
       "1  Sat, 28 Nov 2015 13:39:55 GMT  San Francisco     Low    CA    UberSUV  5ac25b0bb4283ddcd818a07d5e7507d5    47      1     Clear\n",
       "2  Thu, 03 Dec 2015 12:26:05 GMT     Washington  Middle    DC  UberBLACK  8c973b036ce2d06c5b26f789a0f5fab5    40      1     Clear\n",
       "3  Mon, 30 Nov 2015 03:16:49 GMT        Atlanta     Low    GA     uberXL  a209e7632350d72f82aff073fc406563    69      1  Overcast\n",
       "4  Wed, 18 Nov 2015 17:54:37 GMT        Atlanta     Low    GA  UberBLACK  06acbfc4f40ff6cb6ef15a8755945079    66      1      Rain"
      ]
     },
     "execution_count": 2,
     "metadata": {},
     "output_type": "execute_result"
    }
   ],
   "source": [
    "#Importing the data to ipython notebook\n",
    "uber_data = pd.read_csv('output3.csv')\n",
    "df=pd.read_csv(\"output3.csv\")\n",
    "# Convert the Surge to decimal values\n",
    "uber_data['surge'] = uber_data['surge']/10.0\n",
    "uber_data.head()"
   ]
  },
  {
   "cell_type": "code",
   "execution_count": 3,
   "metadata": {
    "collapsed": false
   },
   "outputs": [
    {
     "data": {
      "text/html": [
       "<div>\n",
       "<table border=\"1\" class=\"dataframe\">\n",
       "  <thead>\n",
       "    <tr style=\"text-align: right;\">\n",
       "      <th></th>\n",
       "      <th>temp</th>\n",
       "      <th>surge</th>\n",
       "    </tr>\n",
       "  </thead>\n",
       "  <tbody>\n",
       "    <tr>\n",
       "      <th>count</th>\n",
       "      <td>282398.000000</td>\n",
       "      <td>282398.000000</td>\n",
       "    </tr>\n",
       "    <tr>\n",
       "      <th>mean</th>\n",
       "      <td>49.619179</td>\n",
       "      <td>1.024198</td>\n",
       "    </tr>\n",
       "    <tr>\n",
       "      <th>std</th>\n",
       "      <td>8.314591</td>\n",
       "      <td>0.146514</td>\n",
       "    </tr>\n",
       "    <tr>\n",
       "      <th>min</th>\n",
       "      <td>21.000000</td>\n",
       "      <td>1.000000</td>\n",
       "    </tr>\n",
       "    <tr>\n",
       "      <th>25%</th>\n",
       "      <td>44.000000</td>\n",
       "      <td>1.000000</td>\n",
       "    </tr>\n",
       "    <tr>\n",
       "      <th>50%</th>\n",
       "      <td>49.000000</td>\n",
       "      <td>1.000000</td>\n",
       "    </tr>\n",
       "    <tr>\n",
       "      <th>75%</th>\n",
       "      <td>55.000000</td>\n",
       "      <td>1.000000</td>\n",
       "    </tr>\n",
       "    <tr>\n",
       "      <th>max</th>\n",
       "      <td>76.000000</td>\n",
       "      <td>4.900000</td>\n",
       "    </tr>\n",
       "  </tbody>\n",
       "</table>\n",
       "</div>"
      ],
      "text/plain": [
       "                temp          surge\n",
       "count  282398.000000  282398.000000\n",
       "mean       49.619179       1.024198\n",
       "std         8.314591       0.146514\n",
       "min        21.000000       1.000000\n",
       "25%        44.000000       1.000000\n",
       "50%        49.000000       1.000000\n",
       "75%        55.000000       1.000000\n",
       "max        76.000000       4.900000"
      ]
     },
     "execution_count": 3,
     "metadata": {},
     "output_type": "execute_result"
    }
   ],
   "source": [
    "uber_data.describe()"
   ]
  },
  {
   "cell_type": "code",
   "execution_count": 4,
   "metadata": {
    "collapsed": false
   },
   "outputs": [
    {
     "data": {
      "text/plain": [
       "1.024198117550413"
      ]
     },
     "execution_count": 4,
     "metadata": {},
     "output_type": "execute_result"
    }
   ],
   "source": [
    "uber_surge_mean = uber_data['surge'].mean()\n",
    "uber_surge_mean"
   ]
  },
  {
   "cell_type": "code",
   "execution_count": 5,
   "metadata": {
    "collapsed": true
   },
   "outputs": [],
   "source": [
    "# Function to put full name of Day\n",
    "def day_fix(string):\n",
    "    if string == 'Mon':\n",
    "        return \"Monday\"\n",
    "    elif string =='Tue':\n",
    "        return \"Tuesday\"\n",
    "    elif string =='Wed':\n",
    "        return \"Wednesday\"\n",
    "    elif string =='Thu':\n",
    "        return 'Thursday'\n",
    "    elif string == 'Fri':\n",
    "        return 'Friday'\n",
    "    elif string == 'Sat':\n",
    "        return 'Saturday'\n",
    "    elif string == 'Sun':\n",
    "        return 'Sunday'\n",
    "    else:\n",
    "        print \"Error in day_fix!!!!!\"\n",
    "        \n",
    "# Function to round everything **Down** to the nearest 10 minutes\n",
    "def min_fix(string):\n",
    "    num = int(string)\n",
    "    return str(num - (num%10))\n",
    "\n",
    "# Check and replace the surge\n",
    "def surge_check(surge):\n",
    "    surge = surge * 10\n",
    "    if surge == 10:\n",
    "        return \"No Surge\"\n",
    "    elif surge > 15:\n",
    "        return \"High Surge\"\n",
    "    elif surge == 15:\n",
    "        return \"Mid Surge\"\n",
    "    else:\n",
    "        return \"Low Surge\""
   ]
  },
  {
   "cell_type": "code",
   "execution_count": 7,
   "metadata": {
    "collapsed": false
   },
   "outputs": [
    {
     "name": "stdout",
     "output_type": "stream",
     "text": [
      "Percentage of data that has surge 0.038\n",
      "Percentage of Surge that has Low Surge 0.333\n",
      "Percentage of Surge that has High Surge 0.342\n",
      "Percentage of Surge that has Mid Surge 0.325\n"
     ]
    }
   ],
   "source": [
    "# Code to test No Surge vs Low Surge vs. High Surge\n",
    "\n",
    "count_nosurge = df['surge'] == 10\n",
    "count_surge = df['surge'] != 10\n",
    "surgedf = df[count_surge]\n",
    "\n",
    "count_highsurge = df['surge'] > 15\n",
    "count_lowsurge = surgedf['surge'] < 15\n",
    "count_midsurge = surgedf['surge'] == 15\n",
    "\n",
    "print 'Percentage of data that has surge %0.3f' % (float(sum(count_surge))/len(df))\n",
    "print 'Percentage of Surge that has Low Surge %0.3f' % (float(sum(count_lowsurge))/sum(count_surge))\n",
    "print 'Percentage of Surge that has High Surge %0.3f' % ((float(sum(count_highsurge))/sum(count_surge)))\n",
    "print 'Percentage of Surge that has Mid Surge %0.3f' % (float(sum(count_midsurge))/sum(count_surge))"
   ]
  },
  {
   "cell_type": "markdown",
   "metadata": {},
   "source": [
    "After messing with the data, found that only a small percentage of the data has a Surge (only 3.8%). After digging deeper into the surge prices and messing around with different combinations I set the limits at **Low Surge < 1.5x**, **Mid Surge = 1.5x**, and **High Surge > 1.5x**. I thought that is a fair cut off as well because you are spending 50% more on the ride at 1.5x surge.\n",
    "\n",
    "The first function is just to correct the days from their shortened version into full length versions (e.g. \"Mon\" -> \"Monday\")"
   ]
  },
  {
   "cell_type": "code",
   "execution_count": null,
   "metadata": {
    "collapsed": true
   },
   "outputs": [],
   "source": [
    "#Code to clean cartype\n",
    "for index in uber_data.index:\n",
    "    if uber_data.loc[index,'product'] == 'uberX + Car Seat':\n",
    "        uber_data.loc[index,'product'] = 'uberX'\n",
    "    elif uber_data.loc[index,'product'] == 'SUV + Car Seat':\n",
    "        uber_data.loc[index,'product'] = 'UberSUV'\n",
    "    elif uber_data.loc[index,'product'] == 'BLACK CAR + Car Seat':\n",
    "        uber_data.loc[index,'product'] = 'UberBlack'\n",
    "    elif uber_data.loc[index,'product'] == 'UberSELECT':\n",
    "        uber_data.loc[index,'product'] = 'uberSELECT'\n",
    "    elif uber_data.loc[index,'product'] == 'uberT':\n",
    "        uber_data.loc[index,'product'] = 'uberTAXI'\n",
    "    elif uber_data.loc[index,'product'] == 'UberBLACK':\n",
    "        uber_data.loc[index,'product'] = 'UberBlack'"
   ]
  },
  {
   "cell_type": "code",
   "execution_count": null,
   "metadata": {
    "collapsed": true
   },
   "outputs": [],
   "source": [
    "# Cleaning the Weather Column\n",
    "for row in range(len(uber_data)):\n",
    "    if uber_data.loc[row,'weather'] == 'Light Rain':\n",
    "        uber_data.loc[row,'weather'] = 'Rain'\n",
    "    elif uber_data.loc[row,'weather'] == 'Scattered Clouds':\n",
    "        uber_data.loc[row,'weather'] = 'Cloudy'\n",
    "    elif uber_data.loc[row,'weather'] == 'Mostly Cloudy':\n",
    "        uber_data.loc[row,'weather'] = 'Cloudy'\n",
    "    elif uber_data.loc[row,'weather'] == 'Partly Cloudy':\n",
    "        uber_data.loc[row,'weather'] = 'Cloudy'\n",
    "    elif uber_data.loc[row,'weather'] == 'Overcast':\n",
    "        uber_data.loc[row,'weather'] = 'Clear'"
   ]
  },
  {
   "cell_type": "code",
   "execution_count": null,
   "metadata": {
    "collapsed": true
   },
   "outputs": [],
   "source": [
    "# Remove the extra rows from the dataframe\n",
    "remove = ['uberWAV', 'WAV', 'uberFAMILY', 'ASSIST', 'Yellow WAV']\n",
    "remove_mask = [i not in remove for i in uber_data['product']]\n",
    "uber_data =uber_data[remove_mask]\n",
    "uber_data.reset_index(inplace=True, drop = True)"
   ]
  },
  {
   "cell_type": "code",
   "execution_count": null,
   "metadata": {
    "collapsed": true
   },
   "outputs": [],
   "source": [
    "# Code to extract Weekdays and time of day from given dataframe\n",
    "time_list = [uber_data.time[index].split(' ') for index in uber_data.index]\n",
    "weekday_list = []\n",
    "hour_list = []\n",
    "for row in range(len(time_list)):\n",
    "    \n",
    "    #Cleaning the time column from the queried data set\n",
    "    time_list[row].remove('GMT')\n",
    "    time_list[row][0] = time_list[row][0].replace(',','')\n",
    "    time_list[row][0] = day_fix(time_list[row][0])\n",
    "    hour = int(time_list[row][4][0:2])\n",
    "    \n",
    "    # fix the time change\n",
    "    if uber_data.loc[row,'city'] == 'San Francisco':\n",
    "        hour = hour - 8\n",
    "    else: \n",
    "        hour = hour - 5\n",
    "    if hour < 0 :\n",
    "        hour = 24 + hour\n",
    "    \n",
    "    # Append the Weekday to a list to be put into the dataframe\n",
    "    weekday_list.append(time_list[row][0])\n",
    "    \n",
    "    # call the min_fix function above and create the hours in 10 minute intervals\n",
    "    hour_list.append( str(hour) + ':' + min_fix(time_list[row][4][3:5]) )"
   ]
  },
  {
   "cell_type": "code",
   "execution_count": null,
   "metadata": {
    "collapsed": true
   },
   "outputs": [],
   "source": [
    "#Code to convert Temp to ints\n",
    "temperature_list = [int(uber_data.temp[index]) for index in uber_data.index]"
   ]
  },
  {
   "cell_type": "code",
   "execution_count": null,
   "metadata": {
    "collapsed": false
   },
   "outputs": [],
   "source": [
    "surge_list = [surge_check(uber_data.surge[index]) for index in uber_data.index]"
   ]
  },
  {
   "cell_type": "code",
   "execution_count": null,
   "metadata": {
    "collapsed": false
   },
   "outputs": [],
   "source": [
    "# Create Final Dataframe for exploratory analysis\n",
    "dict_final = {}\n",
    "dict_final = {'id': uber_data._id , 'surge':uber_data['surge'], 'temperature': temperature_list, 'weather': uber_data.weather,\n",
    "             'cartype': uber_data['product'], 'city': uber_data.city, 'income': uber_data.income, 'weekday': weekday_list, \n",
    "              'time': hour_list}\n",
    "df_finale = pd.DataFrame(dict_final)\n",
    "df_finale.reset_index(inplace=True, drop = True)\n",
    "df_finale.head()\n",
    "\n",
    "# Create Final Dataframe for Model Building\n",
    "dict_final = {}\n",
    "dict_final = {'id': uber_data._id , 'surge':surge_list, 'temperature': temperature_list, 'weather': uber_data.weather,\n",
    "             'cartype': uber_data['product'], 'city': uber_data.city, 'income': uber_data.income, 'weekday': weekday_list, \n",
    "              'time': hour_list}\n",
    "df_final = pd.DataFrame(dict_final)\n",
    "df_final.reset_index(inplace=True, drop = True)\n",
    "df_final.head()"
   ]
  },
  {
   "cell_type": "markdown",
   "metadata": {},
   "source": [
    "## Exploratory Data Analysis"
   ]
  },
  {
   "cell_type": "markdown",
   "metadata": {},
   "source": [
    "###Day of Week's Effect on Surge"
   ]
  },
  {
   "cell_type": "code",
   "execution_count": null,
   "metadata": {
    "collapsed": false
   },
   "outputs": [],
   "source": [
    "# Group by day of the week\n",
    "weekday_mean = df_finale.groupby('weekday').mean().reset_index()\n",
    "weekday_mean['count'] = df_finale.groupby('weekday').surge.count().tolist()\n",
    "weekday_mean = weekday_mean.sort(['surge'], ascending = False)\n",
    "weekday_mean"
   ]
  },
  {
   "cell_type": "code",
   "execution_count": null,
   "metadata": {
    "collapsed": false
   },
   "outputs": [],
   "source": [
    "weekday_mean_dict = dict(zip(weekday_mean.weekday, weekday_mean.surge))\n",
    "weekday_mean_dict"
   ]
  },
  {
   "cell_type": "code",
   "execution_count": null,
   "metadata": {
    "collapsed": false
   },
   "outputs": [],
   "source": [
    "a = [uber_surge_mean]*7\n",
    "\n",
    "trace = go.Scatter(\n",
    "    x=weekday_mean['weekday'],\n",
    "    y=weekday_mean['surge'],\n",
    "    mode = 'markers',\n",
    "    marker=dict(\n",
    "        symbol='circle',\n",
    "        size=weekday_mean['count']*.0005,\n",
    "    ),\n",
    "    name = 'Week Day Surge Mean'\n",
    ")\n",
    "\n",
    "trace1 = go.Scatter(\n",
    "    x=weekday_mean['weekday'],\n",
    "    y=a,\n",
    "    mode = 'lines',\n",
    "    name = 'Overall Surge Mean')\n",
    "\n",
    "data = [trace, trace1]\n",
    "layout = go.Layout(\n",
    "    title='Effect of Week Day on Surge',\n",
    "    xaxis=dict(title='Week Day'),\n",
    "    yaxis=dict(title='Surge'))\n",
    "\n",
    "\n",
    "fig = go.Figure(data=data, layout=layout)\n",
    "py.iplot(fig, filename='Weekday_on_surge')"
   ]
  },
  {
   "cell_type": "markdown",
   "metadata": {},
   "source": [
    "Thursday's surge of ~1.027 and Friday's surge of ~1.025 are slightly above the average surge of ~1.024. This is could be explained by the fact that Thursday and Friday are the beginning of the weekend and people are going out at night more and/or traveling. Saturday's surge of ~1.016 and Sunday's surge of ~1.001 are more below average than Thursday and Friday are above average possibly due to the fact that people are using other modes of transportation on the weekends or the fact that there are more uber drivers available because many drivers are part-time drivers."
   ]
  },
  {
   "cell_type": "markdown",
   "metadata": {},
   "source": [
    "###Weather's effect on surge:"
   ]
  },
  {
   "cell_type": "code",
   "execution_count": null,
   "metadata": {
    "collapsed": false
   },
   "outputs": [],
   "source": [
    "weather_mean = uber_data.groupby('weather').mean().reset_index()\n",
    "weather_mean['count'] = uber_data.groupby('weather').surge.count().tolist()\n",
    "weather_mean = weather_mean.sort(['surge'], ascending = False)\n",
    "weather_mean"
   ]
  },
  {
   "cell_type": "code",
   "execution_count": null,
   "metadata": {
    "collapsed": false
   },
   "outputs": [],
   "source": [
    "weather_mean_dict = dict(zip(weather_mean.weather, weather_mean.surge))\n",
    "weather_mean_dict"
   ]
  },
  {
   "cell_type": "code",
   "execution_count": null,
   "metadata": {
    "collapsed": false
   },
   "outputs": [],
   "source": [
    "a = [uber_surge_mean]*7\n",
    "\n",
    "trace = go.Scatter(\n",
    "    x=weather_mean['weather'],\n",
    "    y=weather_mean['surge'],\n",
    "    mode = 'markers',\n",
    "    marker=dict(\n",
    "        symbol='circle',\n",
    "        size=weather_mean['count']*.0055,\n",
    "    ),\n",
    "    name = 'Weather Type Surge Mean'\n",
    ")\n",
    "\n",
    "trace1 = go.Scatter(\n",
    "    x=weather_mean['weather'],\n",
    "    y=a,\n",
    "    mode = 'lines',\n",
    "    name = 'Overall Surge Mean')\n",
    "\n",
    "data = [trace, trace1]\n",
    "layout = go.Layout(\n",
    "    title='Effect of Weather on Surge',\n",
    "    xaxis=dict(title='Weather'),\n",
    "    yaxis=dict(title='Surge'))\n",
    "\n",
    "\n",
    "fig = go.Figure(data=data, layout=layout)\n",
    "py.iplot(fig, filename='Weather_on_surge')"
   ]
  },
  {
   "cell_type": "markdown",
   "metadata": {},
   "source": [
    "Rain has the highest surge value of ~1.026 which is slightly above the average surge value of ~1.024. This is not surprising because when it rains more people will be requesting Ubers to get out of the weather. Cloudy, clear, and fog have below average surge values."
   ]
  },
  {
   "cell_type": "markdown",
   "metadata": {},
   "source": [
    "###Temperature's effect on surge"
   ]
  },
  {
   "cell_type": "code",
   "execution_count": null,
   "metadata": {
    "collapsed": true
   },
   "outputs": [],
   "source": [
    "temp_mean = uber_data.groupby('temp').mean().reset_index()\n",
    "temp_mean['count'] = uber_data.groupby('temp').surge.count().tolist()\n",
    "temp_mean = temp_mean.sort(['surge'], ascending = False)\n",
    "temp_mean.head()\n",
    "temp_mean_dict = dict(zip(temp_mean.temp, temp_mean.surge))"
   ]
  },
  {
   "cell_type": "code",
   "execution_count": null,
   "metadata": {
    "collapsed": false
   },
   "outputs": [],
   "source": [
    "a = [uber_surge_mean]*7\n",
    "\n",
    "trace = go.Scatter(\n",
    "    x=temp_mean['temp'],\n",
    "    y=temp_mean['surge'],\n",
    "    mode = 'markers',\n",
    "    marker=dict(\n",
    "        symbol='circle',\n",
    "        size=10)\n",
    ")\n",
    "\n",
    "trace1 = go.Scatter(\n",
    "    x=temp_mean['temp'],\n",
    "    y=a,\n",
    "    mode = 'lines',\n",
    "    name = 'Overall Surge Mean')\n",
    "\n",
    "data = [trace]\n",
    "layout = go.Layout(\n",
    "    title='Effect of Temperature on Surge',\n",
    "    xaxis=dict(title='Temperature'),\n",
    "    yaxis=dict(title='Mean Surge'))\n",
    "\n",
    "\n",
    "fig = go.Figure(data=data, layout=layout)\n",
    "py.iplot(fig, filename='Temp_on_surge')"
   ]
  },
  {
   "cell_type": "markdown",
   "metadata": {},
   "source": [
    "The surge price appears to rise for the coldest (25-40 degrees) and warmest (73-76 degrees) temperatures. This is probably because users are less likely to walk, bike or skateboard outdoors when it is really cold or really hot."
   ]
  },
  {
   "cell_type": "markdown",
   "metadata": {},
   "source": [
    "###Car Type's effect on surge"
   ]
  },
  {
   "cell_type": "code",
   "execution_count": null,
   "metadata": {
    "collapsed": false
   },
   "outputs": [],
   "source": [
    "car_mean = uber_data.groupby('product').mean().reset_index()\n",
    "car_mean = car_mean.drop('temp', 1).sort(['surge'], ascending = False) \n",
    "car_mean['count'] = uber_data.groupby('product').surge.count().tolist()\n",
    "car_mean_dict = car_mean.set_index('product').surge.to_dict()\n",
    "car_mean"
   ]
  },
  {
   "cell_type": "code",
   "execution_count": null,
   "metadata": {
    "collapsed": false
   },
   "outputs": [],
   "source": [
    "trace = go.Scatter(\n",
    "    x=car_mean['product'],\n",
    "    y=car_mean['surge'],\n",
    "    mode = 'markers',\n",
    "    marker=dict(\n",
    "        symbol='circle',\n",
    "        size=16)\n",
    ")\n",
    "\n",
    "data = [trace]\n",
    "layout = go.Layout(\n",
    "    title='Effect of Car Type on Surge',\n",
    "    xaxis=dict(title='Car Type'),\n",
    "    yaxis=dict(title='Mean Surge'))\n",
    "\n",
    "\n",
    "fig = go.Figure(data=data, layout=layout)\n",
    "py.iplot(fig, filename='Car_on_surge')"
   ]
  },
  {
   "cell_type": "markdown",
   "metadata": {},
   "source": [
    "UberX has the highest mean surge. It makes sense that UberX has the highest surge, because it is the most in demand due to its cheap flat rate. UberTaxi has the lowest mean surge, 1.0. It is likely that this car type doesn't have surge functionality."
   ]
  },
  {
   "cell_type": "markdown",
   "metadata": {},
   "source": [
    "###Socioeconomic effect on surge"
   ]
  },
  {
   "cell_type": "code",
   "execution_count": null,
   "metadata": {
    "collapsed": false
   },
   "outputs": [],
   "source": [
    "income_mean = uber_data.groupby('income').mean().reset_index()\n",
    "income_mean = income_mean.drop('temp', 1).sort(['surge'], ascending = False) \n",
    "income_mean"
   ]
  },
  {
   "cell_type": "code",
   "execution_count": null,
   "metadata": {
    "collapsed": false
   },
   "outputs": [],
   "source": [
    "trace = go.Scatter(\n",
    "    x=income_mean['income'],\n",
    "    y=income_mean['surge'],\n",
    "    mode = 'markers',\n",
    "    marker=dict(\n",
    "        symbol='circle',\n",
    "        size=16)\n",
    ")\n",
    "\n",
    "data = [trace]\n",
    "layout = go.Layout(\n",
    "    title='Effect of Income on Surge',\n",
    "    xaxis=dict(title='Income'),\n",
    "    yaxis=dict(title='Mean Surge'))\n",
    "\n",
    "\n",
    "fig = go.Figure(data=data, layout=layout)\n",
    "py.iplot(fig, filename='Income_on_surge')"
   ]
  },
  {
   "cell_type": "markdown",
   "metadata": {},
   "source": [
    "High Income neighborhoods have the highest mean surge, followed by middle income and lastly low inccome. This is likely due to the tendency of users to live in high income areas. Uber is a luxury service, especially in big cities where public transportation is available. Also it requires the use of a smartphone, which high income users are more likely to own. Since there is more demand in high-income neighborhoods, then there is a higher average surge."
   ]
  },
  {
   "cell_type": "markdown",
   "metadata": {},
   "source": [
    "###City's effect on surge"
   ]
  },
  {
   "cell_type": "code",
   "execution_count": null,
   "metadata": {
    "collapsed": false
   },
   "outputs": [],
   "source": [
    "city_mean = uber_data.groupby('city').mean().reset_index()\n",
    "city_mean = city_mean.drop('temp', 1).sort(['surge'], ascending = False)\n",
    "city_mean"
   ]
  },
  {
   "cell_type": "code",
   "execution_count": null,
   "metadata": {
    "collapsed": false
   },
   "outputs": [],
   "source": [
    "trace = go.Scatter(\n",
    "    x=city_mean['city'],\n",
    "    y=city_mean['surge'],\n",
    "    mode = 'markers',\n",
    "    marker=dict(\n",
    "        symbol='circle',\n",
    "        size=16)\n",
    ")\n",
    "\n",
    "data = [trace]\n",
    "layout = go.Layout(\n",
    "    title='Effect of City on Surge',\n",
    "    xaxis=dict(title='City'),\n",
    "    yaxis=dict(title='Mean Surge'))\n",
    "\n",
    "\n",
    "fig = go.Figure(data=data, layout=layout)\n",
    "py.iplot(fig, filename='city_on_surge')"
   ]
  },
  {
   "cell_type": "markdown",
   "metadata": {},
   "source": [
    "Boston has the highest mean surge, indicating that there is a smaller driver to user ratio in Boston than in the other cities. New York likely has the smallest mean surge because there are so many drivers and so many competeing services like NYC taxis."
   ]
  },
  {
   "cell_type": "markdown",
   "metadata": {},
   "source": [
    "###Time's effect on surge"
   ]
  },
  {
   "cell_type": "code",
   "execution_count": null,
   "metadata": {
    "collapsed": false
   },
   "outputs": [],
   "source": [
    "uber_test = uber_data.copy()\n",
    "uber_test['time'] = [i.split(' ') for i in uber_test['time']]\n",
    "uber_test['time'] = [i[4] for i in uber_test['time']]\n",
    "\n",
    "#Add hour column\n",
    "uber_test['hour'] = [i[:2] for i in uber_test['time']]\n",
    "\n",
    "#Effect of Time on Surge BEFORE ADJUSTING FOR GMT\n",
    "hour_mean = uber_test.groupby('hour').mean().reset_index()\n",
    "hour_mean = hour_mean.drop('temp', 1).sort(['surge'], ascending = False)\n",
    "hour_mean.head()"
   ]
  },
  {
   "cell_type": "markdown",
   "metadata": {},
   "source": [
    "####NYC surge hour (-5 GMT)"
   ]
  },
  {
   "cell_type": "code",
   "execution_count": null,
   "metadata": {
    "collapsed": false
   },
   "outputs": [],
   "source": [
    "nyc = uber_test[uber_test['city'] == 'New York']\n",
    "nyc['hour'] = [(int(i) - 5) if int(i) > 4 else (int(i) - 5 + 24) for i in nyc['hour']]\n",
    "nyc_hour_mean = nyc.groupby('hour').mean().reset_index()\n",
    "nyc_hour_mean = nyc_hour_mean.drop('temp', 1).sort(['surge'], ascending = False)\n",
    "nyc_hour_mean.head()"
   ]
  },
  {
   "cell_type": "code",
   "execution_count": null,
   "metadata": {
    "collapsed": false
   },
   "outputs": [],
   "source": [
    "trace = go.Scatter(\n",
    "    x = (nyc_hour_mean['hour']),\n",
    "    y = (nyc_hour_mean['surge']),\n",
    "    mode = 'markers')\n",
    "\n",
    "data = [trace]\n",
    "\n",
    "layout = go.Layout(\n",
    "    title='NYC: Effect of Time on Surge',\n",
    "    xaxis=dict(title='Time of Day'),\n",
    "    yaxis=dict(title='Surge'))\n",
    "\n",
    "fig = go.Figure(data=data, layout=layout)\n",
    "py.iplot(fig, filename='time-surge')\n"
   ]
  },
  {
   "cell_type": "markdown",
   "metadata": {},
   "source": [
    "In NYC, the highest mean surge is at 5 PM followed 4 AM and then 6 PM. Since rush hour is from 5-7 PM, it makes sense that there is a surge at these times because there is a greater demand. The lowest surge is at 9 AM and 8 PM which also makes sense becasue these are the hours right after high surges. Due to the surge, more Uber drivers become active, but the the demand decreases after rush hour and there is more supply than demand."
   ]
  },
  {
   "cell_type": "markdown",
   "metadata": {},
   "source": [
    "####ATL surge hour (-5 GMT)"
   ]
  },
  {
   "cell_type": "code",
   "execution_count": null,
   "metadata": {
    "collapsed": false
   },
   "outputs": [],
   "source": [
    "atl = uber_test[uber_test['city'] == 'Atlanta']\n",
    "atl['hour'] = [(int(i) - 5) if int(i) > 4 else (int(i) - 5 + 24) for i in atl['hour']]\n",
    "atl_hour_mean = atl.groupby('hour').mean().reset_index()\n",
    "atl_hour_mean = atl_hour_mean.drop('temp', 1).sort(['surge'], ascending = False)\n",
    "atl_hour_mean.head()"
   ]
  },
  {
   "cell_type": "code",
   "execution_count": null,
   "metadata": {
    "collapsed": false
   },
   "outputs": [],
   "source": [
    "trace = go.Scatter(\n",
    "    x = (atl_hour_mean['hour']),\n",
    "    y = (atl_hour_mean['surge']),\n",
    "    mode = 'markers')\n",
    "\n",
    "data = [trace]\n",
    "\n",
    "layout = go.Layout(\n",
    "    title='ATL: Effect of Time on Surge',\n",
    "    xaxis=dict(title='Time of Day'),\n",
    "    yaxis=dict(title='Surge'))\n",
    "\n",
    "fig = go.Figure(data=data, layout=layout)\n",
    "py.iplot(fig, filename='time-surge')"
   ]
  },
  {
   "cell_type": "markdown",
   "metadata": {},
   "source": [
    "There is about no surge all day in Atlanta with the exception of 5 and 6 PM. This surge is likely due to rush hour."
   ]
  },
  {
   "cell_type": "markdown",
   "metadata": {},
   "source": [
    "####SF surge hour (-8 GMT)"
   ]
  },
  {
   "cell_type": "code",
   "execution_count": null,
   "metadata": {
    "collapsed": false
   },
   "outputs": [],
   "source": [
    "sf = uber_test[uber_test['city'] == 'San Francisco']\n",
    "sf['hour'] = [(int(i) - 5) if int(i) > 4 else (int(i) - 5 + 24) for i in sf['hour']]\n",
    "sf_hour_mean = sf.groupby('hour').mean().reset_index()\n",
    "sf_hour_mean = sf_hour_mean.drop('temp', 1).sort(['surge'], ascending = False)\n",
    "sf_hour_mean.head()"
   ]
  },
  {
   "cell_type": "code",
   "execution_count": null,
   "metadata": {
    "collapsed": false
   },
   "outputs": [],
   "source": [
    "trace = go.Scatter(\n",
    "    x = (sf_hour_mean['hour']),\n",
    "    y = (sf_hour_mean['surge']),\n",
    "    mode = 'markers')\n",
    "\n",
    "data = [trace]\n",
    "\n",
    "layout = go.Layout(\n",
    "    title='SF: Effect of Time on Surge',\n",
    "    xaxis=dict(title='Time of Day'),\n",
    "    yaxis=dict(title='Surge'))\n",
    "\n",
    "fig = go.Figure(data=data, layout=layout)\n",
    "py.iplot(fig, filename='time-surge')"
   ]
  },
  {
   "cell_type": "markdown",
   "metadata": {},
   "source": [
    "In SF, the highest mean surge is at 11 AM. The time from 5 AM to 10 AM the average surge is slightly above 1.0. After noon, there is about no surge. The best explanation for the surge in the morning is that there is a high demand for Ubers on the way to work. "
   ]
  },
  {
   "cell_type": "markdown",
   "metadata": {},
   "source": [
    "####BOS surge time (-5 GMT)"
   ]
  },
  {
   "cell_type": "code",
   "execution_count": null,
   "metadata": {
    "collapsed": false
   },
   "outputs": [],
   "source": [
    "bos = uber_test[uber_test['city'] == 'Boston']\n",
    "bos['hour'] = [(int(i) - 5) if int(i) > 4 else (int(i) - 5 + 24) for i in bos['hour']]\n",
    "bos_hour_mean = bos.groupby('hour').mean().reset_index()\n",
    "bos_hour_mean = bos_hour_mean.drop('temp', 1).sort(['surge'], ascending = False)\n",
    "bos_hour_mean.head()"
   ]
  },
  {
   "cell_type": "code",
   "execution_count": null,
   "metadata": {
    "collapsed": false
   },
   "outputs": [],
   "source": [
    "trace = go.Scatter(\n",
    "    x = (bos_hour_mean['hour']),\n",
    "    y = (bos_hour_mean['surge']),\n",
    "    mode = 'markers')\n",
    "\n",
    "data = [trace]\n",
    "\n",
    "layout = go.Layout(\n",
    "    title='BOS: Effect of Time on Surge',\n",
    "    xaxis=dict(title='Time of Day'),\n",
    "    yaxis=dict(title='Surge'))\n",
    "\n",
    "fig = go.Figure(data=data, layout=layout)\n",
    "py.iplot(fig, filename='time-surge')"
   ]
  },
  {
   "cell_type": "markdown",
   "metadata": {},
   "source": [
    "The highest average surge in Boston is at 1 AM, 8 AM, and 5 PM. The latter two are likely do to rush hour for work. The surge at 1 AM is likely because there is a high demand for transportation after midnight, because the public transportation begins to close for the night. The lowest average surge in Boston is around noon and past 8 PM-- this makes sense becasue demand for ubers is low at these points of the day."
   ]
  },
  {
   "cell_type": "markdown",
   "metadata": {},
   "source": [
    "####WASH surge time (-5 GMT)"
   ]
  },
  {
   "cell_type": "code",
   "execution_count": null,
   "metadata": {
    "collapsed": false
   },
   "outputs": [],
   "source": [
    "wash = uber_test[uber_test['city'] == 'Washington']\n",
    "wash['hour'] = [(int(i) - 5) if int(i) > 4 else (int(i) - 5 + 24) for i in wash['hour']]\n",
    "wash_hour_mean = wash.groupby('hour').mean().reset_index()\n",
    "wash_hour_mean = wash_hour_mean.drop('temp', 1).sort(['surge'], ascending = False)\n",
    "wash_hour_mean.head()"
   ]
  },
  {
   "cell_type": "code",
   "execution_count": null,
   "metadata": {
    "collapsed": false
   },
   "outputs": [],
   "source": [
    "trace = go.Scatter(\n",
    "    x = (wash_hour_mean['hour']),\n",
    "    y = (wash_hour_mean['surge']),\n",
    "    mode = 'markers')\n",
    "\n",
    "data = [trace]\n",
    "\n",
    "layout = go.Layout(\n",
    "    title='WASH: Effect of Time on Surge',\n",
    "    xaxis=dict(title='Time of Day'),\n",
    "    yaxis=dict(title='Surge'))\n",
    "\n",
    "fig = go.Figure(data=data, layout=layout)\n",
    "py.iplot(fig, filename='time-surge')"
   ]
  },
  {
   "cell_type": "markdown",
   "metadata": {},
   "source": [
    "The highest average surge in Washington is at 5 and 6 PM, and 8 AM. This is likely because of rush hour at these times. The lowest average surge is around noon and after 8 PM, which makes sense because demand for transportation at this time is low."
   ]
  },
  {
   "cell_type": "markdown",
   "metadata": {},
   "source": [
    "####Combine data from all cities --- ADJUSTED for GMT"
   ]
  },
  {
   "cell_type": "code",
   "execution_count": null,
   "metadata": {
    "collapsed": true
   },
   "outputs": [],
   "source": [
    "concat_city_surge = pd.concat([wash_hour_mean, bos_hour_mean,atl_hour_mean, sf_hour_mean, nyc_hour_mean], axis=1)\n",
    "temp = concat_city_surge[[\"surge\", \"surge\", \"surge\", \"surge\", \"surge\" ]].mean(axis=1)\n",
    "holder = []\n",
    "for i in range(24):\n",
    "    holder.append(i)\n",
    "\n",
    "holder = pd.DataFrame(holder, columns=['hour'])\n",
    "city_surge = pd.concat([holder, temp], axis=1)\n",
    "city_surge = pd.concat([holder, temp], axis=1)\n",
    "city_surge.columns = ['hour', 'surge']\n"
   ]
  },
  {
   "cell_type": "code",
   "execution_count": null,
   "metadata": {
    "collapsed": false
   },
   "outputs": [],
   "source": [
    "trace = go.Scatter(\n",
    "    x = (city_surge['hour']),\n",
    "    y = (city_surge['surge']),\n",
    "    mode = 'markers')\n",
    "\n",
    "data = [trace]\n",
    "\n",
    "layout = go.Layout(\n",
    "    title='Effect of Time on Surge',\n",
    "    xaxis=dict(title='Time of Day'),\n",
    "    yaxis=dict(title='Surge'))\n",
    "\n",
    "fig = go.Figure(data=data, layout=layout)\n",
    "py.iplot(fig, filename='time-surge')"
   ]
  },
  {
   "cell_type": "markdown",
   "metadata": {},
   "source": [
    "Overall, the highest average surge is at 5 and 6 PM, followed by 8 AM. Since these are rush hour times, it makes sense that there would be high demand for Ubers at these times, and not enough supply. The lowest average surge occurs at 10 AM and 8 PM, which also makes sense because there is generally a low demand for transportation at these times of the day."
   ]
  },
  {
   "cell_type": "markdown",
   "metadata": {},
   "source": [
    "## Final Analysis"
   ]
  },
  {
   "cell_type": "markdown",
   "metadata": {},
   "source": [
    "### Model Description and Reasons"
   ]
  },
  {
   "cell_type": "markdown",
   "metadata": {},
   "source": [
    "In order to predict attempt to predict surge pricing, we tested two models to be used. In this case, the dependent variable is presented in classes. We thought that classifying the surge pricing into ‘No Surge,’ ‘Low Surge,’ ‘Middle Surge,’ and ‘High Surge.’ When cleaning the data set, we found an even split in the surges at 1.5x normal price. This means that any surge below 1.5x was classified as ‘Low Surge’, ‘Middle Surge’ being equal to 1.5x, and ‘High Surge’ as above 1.5x. We assumed that classifying the surge into these four categories would provide better results than predicting the actual number (e.g. classification vs. regression). The first classification model we attempted to use was a Random Forest Classifier. The second classification model we attempted to use was logistic regression with regularization. The models are implemented and described below."
   ]
  },
  {
   "cell_type": "markdown",
   "metadata": {},
   "source": [
    "###Implementation"
   ]
  },
  {
   "cell_type": "code",
   "execution_count": 113,
   "metadata": {
    "collapsed": true
   },
   "outputs": [],
   "source": [
    "# Import functions needed \n",
    "from  sklearn.ensemble import RandomForestClassifier\n",
    "from sklearn.linear_model import Ridge\n",
    "from sklearn.cross_validation import train_test_split\n",
    "from sklearn.cross_validation import cross_val_score\n",
    "from sklearn.grid_search import GridSearchCV\n",
    "from sklearn.feature_extraction import DictVectorizer\n",
    "from sklearn.linear_model import LogisticRegression"
   ]
  },
  {
   "cell_type": "code",
   "execution_count": 114,
   "metadata": {
    "collapsed": false
   },
   "outputs": [],
   "source": [
    "# split into training and test data\n",
    "itrain, itest = train_test_split(xrange(df_final.shape[0]), train_size=0.7)\n",
    "\n",
    "mask=np.ones(df_final.shape[0], dtype='int')\n",
    "mask[itrain]=1\n",
    "mask[itest]=0\n",
    "mask = (mask==1)\n",
    "\n",
    "#split training set into validation set if needed (not ended up needed)\n",
    "itrain, itest = train_test_split(xrange(df_final[mask].shape[0]), train_size=0.7)\n",
    "\n",
    "mask2 = np.ones(df_final[mask].shape[0], dtype = 'int')\n",
    "mask2[itrain] = 1\n",
    "mask2[itest] = 0\n",
    "mask2 = (mask2==1)"
   ]
  },
  {
   "cell_type": "code",
   "execution_count": 115,
   "metadata": {
    "collapsed": false
   },
   "outputs": [
    {
     "name": "stdout",
     "output_type": "stream",
     "text": [
      "['Clear' 'Rain' 'Cloudy']\n",
      "['UberSUV' 'UberBlack' 'uberX' 'uberXL' 'uberTAXI' 'uberSELECT']\n",
      "['Atlanta' 'Boston' 'Washington' 'New York' 'San Francisco']\n",
      "144\n",
      "<type 'numpy.int64'>\n"
     ]
    }
   ],
   "source": [
    "#Check data cleaning\n",
    "print df_final['weather'].unique()\n",
    "print df_final['cartype'].unique()\n",
    "print df_final['city'].unique()\n",
    "print len(df_final['time'].unique())\n",
    "print type(df_final['temperature'][0])"
   ]
  },
  {
   "cell_type": "markdown",
   "metadata": {},
   "source": [
    "This was only to test the data cleaning to make sure that it was cleaned well."
   ]
  },
  {
   "cell_type": "code",
   "execution_count": 116,
   "metadata": {
    "collapsed": false
   },
   "outputs": [
    {
     "data": {
      "text/html": [
       "<div>\n",
       "<table border=\"1\" class=\"dataframe\">\n",
       "  <thead>\n",
       "    <tr style=\"text-align: right;\">\n",
       "      <th></th>\n",
       "      <th>cartype=UberBlack</th>\n",
       "      <th>cartype=UberSUV</th>\n",
       "      <th>cartype=uberSELECT</th>\n",
       "      <th>cartype=uberTAXI</th>\n",
       "      <th>cartype=uberX</th>\n",
       "      <th>cartype=uberXL</th>\n",
       "      <th>city=Atlanta</th>\n",
       "      <th>city=Boston</th>\n",
       "      <th>city=New York</th>\n",
       "      <th>city=San Francisco</th>\n",
       "      <th>city=Washington</th>\n",
       "      <th>income=High</th>\n",
       "      <th>income=Low</th>\n",
       "      <th>income=Middle</th>\n",
       "      <th>temperature</th>\n",
       "      <th>time=0:0</th>\n",
       "      <th>time=0:10</th>\n",
       "      <th>time=0:20</th>\n",
       "      <th>time=0:30</th>\n",
       "      <th>time=0:40</th>\n",
       "      <th>time=0:50</th>\n",
       "      <th>time=10:0</th>\n",
       "      <th>time=10:10</th>\n",
       "      <th>time=10:20</th>\n",
       "      <th>time=10:30</th>\n",
       "      <th>time=10:40</th>\n",
       "      <th>time=10:50</th>\n",
       "      <th>time=11:0</th>\n",
       "      <th>time=11:10</th>\n",
       "      <th>time=11:20</th>\n",
       "      <th>time=11:30</th>\n",
       "      <th>time=11:40</th>\n",
       "      <th>time=11:50</th>\n",
       "      <th>time=12:0</th>\n",
       "      <th>time=12:10</th>\n",
       "      <th>time=12:20</th>\n",
       "      <th>time=12:30</th>\n",
       "      <th>time=12:40</th>\n",
       "      <th>time=12:50</th>\n",
       "      <th>time=13:0</th>\n",
       "      <th>time=13:10</th>\n",
       "      <th>time=13:20</th>\n",
       "      <th>time=13:30</th>\n",
       "      <th>time=13:40</th>\n",
       "      <th>time=13:50</th>\n",
       "      <th>time=14:0</th>\n",
       "      <th>time=14:10</th>\n",
       "      <th>time=14:20</th>\n",
       "      <th>time=14:30</th>\n",
       "      <th>time=14:40</th>\n",
       "      <th>...</th>\n",
       "      <th>time=3:0</th>\n",
       "      <th>time=3:10</th>\n",
       "      <th>time=3:20</th>\n",
       "      <th>time=3:30</th>\n",
       "      <th>time=3:40</th>\n",
       "      <th>time=3:50</th>\n",
       "      <th>time=4:0</th>\n",
       "      <th>time=4:10</th>\n",
       "      <th>time=4:20</th>\n",
       "      <th>time=4:30</th>\n",
       "      <th>time=4:40</th>\n",
       "      <th>time=4:50</th>\n",
       "      <th>time=5:0</th>\n",
       "      <th>time=5:10</th>\n",
       "      <th>time=5:20</th>\n",
       "      <th>time=5:30</th>\n",
       "      <th>time=5:40</th>\n",
       "      <th>time=5:50</th>\n",
       "      <th>time=6:0</th>\n",
       "      <th>time=6:10</th>\n",
       "      <th>time=6:20</th>\n",
       "      <th>time=6:30</th>\n",
       "      <th>time=6:40</th>\n",
       "      <th>time=6:50</th>\n",
       "      <th>time=7:0</th>\n",
       "      <th>time=7:10</th>\n",
       "      <th>time=7:20</th>\n",
       "      <th>time=7:30</th>\n",
       "      <th>time=7:40</th>\n",
       "      <th>time=7:50</th>\n",
       "      <th>time=8:0</th>\n",
       "      <th>time=8:10</th>\n",
       "      <th>time=8:20</th>\n",
       "      <th>time=8:30</th>\n",
       "      <th>time=8:40</th>\n",
       "      <th>time=8:50</th>\n",
       "      <th>time=9:0</th>\n",
       "      <th>time=9:10</th>\n",
       "      <th>time=9:20</th>\n",
       "      <th>time=9:30</th>\n",
       "      <th>time=9:40</th>\n",
       "      <th>time=9:50</th>\n",
       "      <th>weather=Clear</th>\n",
       "      <th>weather=Cloudy</th>\n",
       "      <th>weather=Rain</th>\n",
       "      <th>weekday=Friday</th>\n",
       "      <th>weekday=Saturday</th>\n",
       "      <th>weekday=Thursday</th>\n",
       "      <th>weekday=Tuesday</th>\n",
       "      <th>weekday=Wednesday</th>\n",
       "    </tr>\n",
       "  </thead>\n",
       "  <tbody>\n",
       "    <tr>\n",
       "      <th>0</th>\n",
       "      <td>0</td>\n",
       "      <td>1</td>\n",
       "      <td>0</td>\n",
       "      <td>0</td>\n",
       "      <td>0</td>\n",
       "      <td>0</td>\n",
       "      <td>1</td>\n",
       "      <td>0</td>\n",
       "      <td>0</td>\n",
       "      <td>0</td>\n",
       "      <td>0</td>\n",
       "      <td>1</td>\n",
       "      <td>0</td>\n",
       "      <td>0</td>\n",
       "      <td>62</td>\n",
       "      <td>0</td>\n",
       "      <td>0</td>\n",
       "      <td>0</td>\n",
       "      <td>0</td>\n",
       "      <td>0</td>\n",
       "      <td>0</td>\n",
       "      <td>0</td>\n",
       "      <td>0</td>\n",
       "      <td>0</td>\n",
       "      <td>0</td>\n",
       "      <td>0</td>\n",
       "      <td>0</td>\n",
       "      <td>0</td>\n",
       "      <td>0</td>\n",
       "      <td>0</td>\n",
       "      <td>0</td>\n",
       "      <td>0</td>\n",
       "      <td>0</td>\n",
       "      <td>0</td>\n",
       "      <td>0</td>\n",
       "      <td>0</td>\n",
       "      <td>0</td>\n",
       "      <td>0</td>\n",
       "      <td>0</td>\n",
       "      <td>0</td>\n",
       "      <td>0</td>\n",
       "      <td>0</td>\n",
       "      <td>0</td>\n",
       "      <td>0</td>\n",
       "      <td>0</td>\n",
       "      <td>0</td>\n",
       "      <td>0</td>\n",
       "      <td>0</td>\n",
       "      <td>0</td>\n",
       "      <td>0</td>\n",
       "      <td>...</td>\n",
       "      <td>0</td>\n",
       "      <td>0</td>\n",
       "      <td>0</td>\n",
       "      <td>0</td>\n",
       "      <td>0</td>\n",
       "      <td>0</td>\n",
       "      <td>0</td>\n",
       "      <td>0</td>\n",
       "      <td>0</td>\n",
       "      <td>0</td>\n",
       "      <td>0</td>\n",
       "      <td>0</td>\n",
       "      <td>0</td>\n",
       "      <td>0</td>\n",
       "      <td>0</td>\n",
       "      <td>0</td>\n",
       "      <td>0</td>\n",
       "      <td>0</td>\n",
       "      <td>0</td>\n",
       "      <td>0</td>\n",
       "      <td>0</td>\n",
       "      <td>0</td>\n",
       "      <td>0</td>\n",
       "      <td>0</td>\n",
       "      <td>0</td>\n",
       "      <td>0</td>\n",
       "      <td>0</td>\n",
       "      <td>0</td>\n",
       "      <td>0</td>\n",
       "      <td>0</td>\n",
       "      <td>0</td>\n",
       "      <td>0</td>\n",
       "      <td>0</td>\n",
       "      <td>0</td>\n",
       "      <td>0</td>\n",
       "      <td>0</td>\n",
       "      <td>0</td>\n",
       "      <td>0</td>\n",
       "      <td>0</td>\n",
       "      <td>0</td>\n",
       "      <td>0</td>\n",
       "      <td>0</td>\n",
       "      <td>1</td>\n",
       "      <td>0</td>\n",
       "      <td>0</td>\n",
       "      <td>1</td>\n",
       "      <td>0</td>\n",
       "      <td>0</td>\n",
       "      <td>0</td>\n",
       "      <td>0</td>\n",
       "    </tr>\n",
       "    <tr>\n",
       "      <th>1</th>\n",
       "      <td>1</td>\n",
       "      <td>0</td>\n",
       "      <td>0</td>\n",
       "      <td>0</td>\n",
       "      <td>0</td>\n",
       "      <td>0</td>\n",
       "      <td>1</td>\n",
       "      <td>0</td>\n",
       "      <td>0</td>\n",
       "      <td>0</td>\n",
       "      <td>0</td>\n",
       "      <td>0</td>\n",
       "      <td>1</td>\n",
       "      <td>0</td>\n",
       "      <td>66</td>\n",
       "      <td>0</td>\n",
       "      <td>0</td>\n",
       "      <td>0</td>\n",
       "      <td>0</td>\n",
       "      <td>0</td>\n",
       "      <td>0</td>\n",
       "      <td>0</td>\n",
       "      <td>0</td>\n",
       "      <td>0</td>\n",
       "      <td>0</td>\n",
       "      <td>0</td>\n",
       "      <td>0</td>\n",
       "      <td>0</td>\n",
       "      <td>0</td>\n",
       "      <td>0</td>\n",
       "      <td>0</td>\n",
       "      <td>0</td>\n",
       "      <td>0</td>\n",
       "      <td>0</td>\n",
       "      <td>0</td>\n",
       "      <td>0</td>\n",
       "      <td>0</td>\n",
       "      <td>0</td>\n",
       "      <td>1</td>\n",
       "      <td>0</td>\n",
       "      <td>0</td>\n",
       "      <td>0</td>\n",
       "      <td>0</td>\n",
       "      <td>0</td>\n",
       "      <td>0</td>\n",
       "      <td>0</td>\n",
       "      <td>0</td>\n",
       "      <td>0</td>\n",
       "      <td>0</td>\n",
       "      <td>0</td>\n",
       "      <td>...</td>\n",
       "      <td>0</td>\n",
       "      <td>0</td>\n",
       "      <td>0</td>\n",
       "      <td>0</td>\n",
       "      <td>0</td>\n",
       "      <td>0</td>\n",
       "      <td>0</td>\n",
       "      <td>0</td>\n",
       "      <td>0</td>\n",
       "      <td>0</td>\n",
       "      <td>0</td>\n",
       "      <td>0</td>\n",
       "      <td>0</td>\n",
       "      <td>0</td>\n",
       "      <td>0</td>\n",
       "      <td>0</td>\n",
       "      <td>0</td>\n",
       "      <td>0</td>\n",
       "      <td>0</td>\n",
       "      <td>0</td>\n",
       "      <td>0</td>\n",
       "      <td>0</td>\n",
       "      <td>0</td>\n",
       "      <td>0</td>\n",
       "      <td>0</td>\n",
       "      <td>0</td>\n",
       "      <td>0</td>\n",
       "      <td>0</td>\n",
       "      <td>0</td>\n",
       "      <td>0</td>\n",
       "      <td>0</td>\n",
       "      <td>0</td>\n",
       "      <td>0</td>\n",
       "      <td>0</td>\n",
       "      <td>0</td>\n",
       "      <td>0</td>\n",
       "      <td>0</td>\n",
       "      <td>0</td>\n",
       "      <td>0</td>\n",
       "      <td>0</td>\n",
       "      <td>0</td>\n",
       "      <td>0</td>\n",
       "      <td>0</td>\n",
       "      <td>0</td>\n",
       "      <td>1</td>\n",
       "      <td>0</td>\n",
       "      <td>0</td>\n",
       "      <td>0</td>\n",
       "      <td>0</td>\n",
       "      <td>1</td>\n",
       "    </tr>\n",
       "    <tr>\n",
       "      <th>2</th>\n",
       "      <td>1</td>\n",
       "      <td>0</td>\n",
       "      <td>0</td>\n",
       "      <td>0</td>\n",
       "      <td>0</td>\n",
       "      <td>0</td>\n",
       "      <td>1</td>\n",
       "      <td>0</td>\n",
       "      <td>0</td>\n",
       "      <td>0</td>\n",
       "      <td>0</td>\n",
       "      <td>1</td>\n",
       "      <td>0</td>\n",
       "      <td>0</td>\n",
       "      <td>69</td>\n",
       "      <td>0</td>\n",
       "      <td>0</td>\n",
       "      <td>0</td>\n",
       "      <td>0</td>\n",
       "      <td>0</td>\n",
       "      <td>0</td>\n",
       "      <td>0</td>\n",
       "      <td>0</td>\n",
       "      <td>0</td>\n",
       "      <td>0</td>\n",
       "      <td>0</td>\n",
       "      <td>0</td>\n",
       "      <td>0</td>\n",
       "      <td>0</td>\n",
       "      <td>0</td>\n",
       "      <td>0</td>\n",
       "      <td>0</td>\n",
       "      <td>0</td>\n",
       "      <td>0</td>\n",
       "      <td>0</td>\n",
       "      <td>0</td>\n",
       "      <td>0</td>\n",
       "      <td>0</td>\n",
       "      <td>0</td>\n",
       "      <td>0</td>\n",
       "      <td>0</td>\n",
       "      <td>0</td>\n",
       "      <td>0</td>\n",
       "      <td>0</td>\n",
       "      <td>0</td>\n",
       "      <td>0</td>\n",
       "      <td>0</td>\n",
       "      <td>1</td>\n",
       "      <td>0</td>\n",
       "      <td>0</td>\n",
       "      <td>...</td>\n",
       "      <td>0</td>\n",
       "      <td>0</td>\n",
       "      <td>0</td>\n",
       "      <td>0</td>\n",
       "      <td>0</td>\n",
       "      <td>0</td>\n",
       "      <td>0</td>\n",
       "      <td>0</td>\n",
       "      <td>0</td>\n",
       "      <td>0</td>\n",
       "      <td>0</td>\n",
       "      <td>0</td>\n",
       "      <td>0</td>\n",
       "      <td>0</td>\n",
       "      <td>0</td>\n",
       "      <td>0</td>\n",
       "      <td>0</td>\n",
       "      <td>0</td>\n",
       "      <td>0</td>\n",
       "      <td>0</td>\n",
       "      <td>0</td>\n",
       "      <td>0</td>\n",
       "      <td>0</td>\n",
       "      <td>0</td>\n",
       "      <td>0</td>\n",
       "      <td>0</td>\n",
       "      <td>0</td>\n",
       "      <td>0</td>\n",
       "      <td>0</td>\n",
       "      <td>0</td>\n",
       "      <td>0</td>\n",
       "      <td>0</td>\n",
       "      <td>0</td>\n",
       "      <td>0</td>\n",
       "      <td>0</td>\n",
       "      <td>0</td>\n",
       "      <td>0</td>\n",
       "      <td>0</td>\n",
       "      <td>0</td>\n",
       "      <td>0</td>\n",
       "      <td>0</td>\n",
       "      <td>0</td>\n",
       "      <td>0</td>\n",
       "      <td>0</td>\n",
       "      <td>1</td>\n",
       "      <td>0</td>\n",
       "      <td>0</td>\n",
       "      <td>0</td>\n",
       "      <td>0</td>\n",
       "      <td>1</td>\n",
       "    </tr>\n",
       "    <tr>\n",
       "      <th>3</th>\n",
       "      <td>1</td>\n",
       "      <td>0</td>\n",
       "      <td>0</td>\n",
       "      <td>0</td>\n",
       "      <td>0</td>\n",
       "      <td>0</td>\n",
       "      <td>0</td>\n",
       "      <td>1</td>\n",
       "      <td>0</td>\n",
       "      <td>0</td>\n",
       "      <td>0</td>\n",
       "      <td>0</td>\n",
       "      <td>0</td>\n",
       "      <td>1</td>\n",
       "      <td>40</td>\n",
       "      <td>0</td>\n",
       "      <td>0</td>\n",
       "      <td>0</td>\n",
       "      <td>0</td>\n",
       "      <td>0</td>\n",
       "      <td>0</td>\n",
       "      <td>0</td>\n",
       "      <td>0</td>\n",
       "      <td>0</td>\n",
       "      <td>0</td>\n",
       "      <td>0</td>\n",
       "      <td>0</td>\n",
       "      <td>0</td>\n",
       "      <td>0</td>\n",
       "      <td>0</td>\n",
       "      <td>0</td>\n",
       "      <td>0</td>\n",
       "      <td>0</td>\n",
       "      <td>0</td>\n",
       "      <td>0</td>\n",
       "      <td>0</td>\n",
       "      <td>0</td>\n",
       "      <td>0</td>\n",
       "      <td>0</td>\n",
       "      <td>0</td>\n",
       "      <td>0</td>\n",
       "      <td>0</td>\n",
       "      <td>0</td>\n",
       "      <td>0</td>\n",
       "      <td>0</td>\n",
       "      <td>0</td>\n",
       "      <td>0</td>\n",
       "      <td>0</td>\n",
       "      <td>0</td>\n",
       "      <td>0</td>\n",
       "      <td>...</td>\n",
       "      <td>0</td>\n",
       "      <td>0</td>\n",
       "      <td>0</td>\n",
       "      <td>0</td>\n",
       "      <td>0</td>\n",
       "      <td>0</td>\n",
       "      <td>0</td>\n",
       "      <td>0</td>\n",
       "      <td>0</td>\n",
       "      <td>0</td>\n",
       "      <td>0</td>\n",
       "      <td>0</td>\n",
       "      <td>0</td>\n",
       "      <td>0</td>\n",
       "      <td>0</td>\n",
       "      <td>0</td>\n",
       "      <td>0</td>\n",
       "      <td>0</td>\n",
       "      <td>0</td>\n",
       "      <td>0</td>\n",
       "      <td>0</td>\n",
       "      <td>0</td>\n",
       "      <td>0</td>\n",
       "      <td>0</td>\n",
       "      <td>0</td>\n",
       "      <td>0</td>\n",
       "      <td>0</td>\n",
       "      <td>0</td>\n",
       "      <td>0</td>\n",
       "      <td>0</td>\n",
       "      <td>0</td>\n",
       "      <td>0</td>\n",
       "      <td>0</td>\n",
       "      <td>0</td>\n",
       "      <td>0</td>\n",
       "      <td>0</td>\n",
       "      <td>0</td>\n",
       "      <td>0</td>\n",
       "      <td>0</td>\n",
       "      <td>0</td>\n",
       "      <td>0</td>\n",
       "      <td>0</td>\n",
       "      <td>0</td>\n",
       "      <td>1</td>\n",
       "      <td>0</td>\n",
       "      <td>0</td>\n",
       "      <td>0</td>\n",
       "      <td>0</td>\n",
       "      <td>0</td>\n",
       "      <td>1</td>\n",
       "    </tr>\n",
       "    <tr>\n",
       "      <th>4</th>\n",
       "      <td>0</td>\n",
       "      <td>0</td>\n",
       "      <td>0</td>\n",
       "      <td>0</td>\n",
       "      <td>1</td>\n",
       "      <td>0</td>\n",
       "      <td>0</td>\n",
       "      <td>0</td>\n",
       "      <td>0</td>\n",
       "      <td>0</td>\n",
       "      <td>1</td>\n",
       "      <td>0</td>\n",
       "      <td>1</td>\n",
       "      <td>0</td>\n",
       "      <td>48</td>\n",
       "      <td>0</td>\n",
       "      <td>0</td>\n",
       "      <td>0</td>\n",
       "      <td>0</td>\n",
       "      <td>0</td>\n",
       "      <td>0</td>\n",
       "      <td>0</td>\n",
       "      <td>0</td>\n",
       "      <td>0</td>\n",
       "      <td>0</td>\n",
       "      <td>0</td>\n",
       "      <td>0</td>\n",
       "      <td>0</td>\n",
       "      <td>0</td>\n",
       "      <td>0</td>\n",
       "      <td>0</td>\n",
       "      <td>0</td>\n",
       "      <td>0</td>\n",
       "      <td>0</td>\n",
       "      <td>0</td>\n",
       "      <td>0</td>\n",
       "      <td>0</td>\n",
       "      <td>0</td>\n",
       "      <td>0</td>\n",
       "      <td>0</td>\n",
       "      <td>0</td>\n",
       "      <td>0</td>\n",
       "      <td>0</td>\n",
       "      <td>0</td>\n",
       "      <td>0</td>\n",
       "      <td>0</td>\n",
       "      <td>0</td>\n",
       "      <td>0</td>\n",
       "      <td>0</td>\n",
       "      <td>0</td>\n",
       "      <td>...</td>\n",
       "      <td>0</td>\n",
       "      <td>0</td>\n",
       "      <td>0</td>\n",
       "      <td>0</td>\n",
       "      <td>0</td>\n",
       "      <td>0</td>\n",
       "      <td>0</td>\n",
       "      <td>0</td>\n",
       "      <td>0</td>\n",
       "      <td>0</td>\n",
       "      <td>0</td>\n",
       "      <td>0</td>\n",
       "      <td>0</td>\n",
       "      <td>0</td>\n",
       "      <td>0</td>\n",
       "      <td>0</td>\n",
       "      <td>0</td>\n",
       "      <td>0</td>\n",
       "      <td>0</td>\n",
       "      <td>0</td>\n",
       "      <td>0</td>\n",
       "      <td>0</td>\n",
       "      <td>0</td>\n",
       "      <td>0</td>\n",
       "      <td>0</td>\n",
       "      <td>0</td>\n",
       "      <td>0</td>\n",
       "      <td>0</td>\n",
       "      <td>0</td>\n",
       "      <td>0</td>\n",
       "      <td>0</td>\n",
       "      <td>0</td>\n",
       "      <td>0</td>\n",
       "      <td>0</td>\n",
       "      <td>0</td>\n",
       "      <td>0</td>\n",
       "      <td>0</td>\n",
       "      <td>0</td>\n",
       "      <td>0</td>\n",
       "      <td>0</td>\n",
       "      <td>0</td>\n",
       "      <td>0</td>\n",
       "      <td>1</td>\n",
       "      <td>0</td>\n",
       "      <td>0</td>\n",
       "      <td>0</td>\n",
       "      <td>1</td>\n",
       "      <td>0</td>\n",
       "      <td>0</td>\n",
       "      <td>0</td>\n",
       "    </tr>\n",
       "  </tbody>\n",
       "</table>\n",
       "<p>5 rows × 167 columns</p>\n",
       "</div>"
      ],
      "text/plain": [
       "   cartype=UberBlack  cartype=UberSUV  cartype=uberSELECT  cartype=uberTAXI  cartype=uberX  cartype=uberXL  city=Atlanta  city=Boston  city=New York  city=San Francisco  city=Washington  income=High  income=Low  income=Middle  temperature  time=0:0  time=0:10  time=0:20  time=0:30  time=0:40  time=0:50  time=10:0  time=10:10  time=10:20  time=10:30  time=10:40  time=10:50  time=11:0  time=11:10  time=11:20  time=11:30  time=11:40  time=11:50  time=12:0  time=12:10  time=12:20  time=12:30  \\\n",
       "0                  0                1                   0                 0              0               0             1            0              0                   0                0            1           0              0           62         0          0          0          0          0          0          0           0           0           0           0           0          0           0           0           0           0           0          0           0           0           0   \n",
       "1                  1                0                   0                 0              0               0             1            0              0                   0                0            0           1              0           66         0          0          0          0          0          0          0           0           0           0           0           0          0           0           0           0           0           0          0           0           0           0   \n",
       "2                  1                0                   0                 0              0               0             1            0              0                   0                0            1           0              0           69         0          0          0          0          0          0          0           0           0           0           0           0          0           0           0           0           0           0          0           0           0           0   \n",
       "3                  1                0                   0                 0              0               0             0            1              0                   0                0            0           0              1           40         0          0          0          0          0          0          0           0           0           0           0           0          0           0           0           0           0           0          0           0           0           0   \n",
       "4                  0                0                   0                 0              1               0             0            0              0                   0                1            0           1              0           48         0          0          0          0          0          0          0           0           0           0           0           0          0           0           0           0           0           0          0           0           0           0   \n",
       "\n",
       "   time=12:40  time=12:50  time=13:0  time=13:10  time=13:20  time=13:30  time=13:40  time=13:50  time=14:0  time=14:10  time=14:20  time=14:30  time=14:40        ...          time=3:0  time=3:10  time=3:20  time=3:30  time=3:40  time=3:50  time=4:0  time=4:10  time=4:20  time=4:30  time=4:40  time=4:50  time=5:0  time=5:10  time=5:20  time=5:30  time=5:40  time=5:50  time=6:0  time=6:10  time=6:20  time=6:30  time=6:40  time=6:50  time=7:0  time=7:10  time=7:20  time=7:30  time=7:40  \\\n",
       "0           0           0          0           0           0           0           0           0          0           0           0           0           0        ...                 0          0          0          0          0          0         0          0          0          0          0          0         0          0          0          0          0          0         0          0          0          0          0          0         0          0          0          0          0   \n",
       "1           0           1          0           0           0           0           0           0          0           0           0           0           0        ...                 0          0          0          0          0          0         0          0          0          0          0          0         0          0          0          0          0          0         0          0          0          0          0          0         0          0          0          0          0   \n",
       "2           0           0          0           0           0           0           0           0          0           0           1           0           0        ...                 0          0          0          0          0          0         0          0          0          0          0          0         0          0          0          0          0          0         0          0          0          0          0          0         0          0          0          0          0   \n",
       "3           0           0          0           0           0           0           0           0          0           0           0           0           0        ...                 0          0          0          0          0          0         0          0          0          0          0          0         0          0          0          0          0          0         0          0          0          0          0          0         0          0          0          0          0   \n",
       "4           0           0          0           0           0           0           0           0          0           0           0           0           0        ...                 0          0          0          0          0          0         0          0          0          0          0          0         0          0          0          0          0          0         0          0          0          0          0          0         0          0          0          0          0   \n",
       "\n",
       "   time=7:50  time=8:0  time=8:10  time=8:20  time=8:30  time=8:40  time=8:50  time=9:0  time=9:10  time=9:20  time=9:30  time=9:40  time=9:50  weather=Clear  weather=Cloudy  weather=Rain  weekday=Friday  weekday=Saturday  weekday=Thursday  weekday=Tuesday  weekday=Wednesday  \n",
       "0          0         0          0          0          0          0          0         0          0          0          0          0          0              1               0             0               1                 0                 0                0                  0  \n",
       "1          0         0          0          0          0          0          0         0          0          0          0          0          0              0               0             1               0                 0                 0                0                  1  \n",
       "2          0         0          0          0          0          0          0         0          0          0          0          0          0              0               0             1               0                 0                 0                0                  1  \n",
       "3          0         0          0          0          0          0          0         0          0          0          0          0          0              0               1             0               0                 0                 0                0                  1  \n",
       "4          0         0          0          0          0          0          0         0          0          0          0          0          0              1               0             0               0                 1                 0                0                  0  \n",
       "\n",
       "[5 rows x 167 columns]"
      ]
     },
     "execution_count": 116,
     "metadata": {},
     "output_type": "execute_result"
    }
   ],
   "source": [
    "#Create the X matrix\n",
    "Xvec_list = []\n",
    "for i in range(len(df_final)):\n",
    "    temp_dict = {}\n",
    "    temp_dict['city'] = dict_final['city'][i]\n",
    "    temp_dict['cartype'] = dict_final['cartype'][i]\n",
    "    temp_dict['income'] = dict_final['income'][i]\n",
    "    temp_dict['temperature'] = dict_final['temperature'][i]\n",
    "    temp_dict['time'] = dict_final['time'][i]\n",
    "    temp_dict['weather'] = dict_final['weather'][i]\n",
    "    temp_dict['weekday'] = dict_final['weekday'][i]\n",
    "    Xvec_list.append(temp_dict)\n",
    "\n",
    "vec = DictVectorizer()\n",
    "vec.fit_transform(Xvec_list)\n",
    "fcolumns = vec.get_feature_names()\n",
    "data = vec.fit_transform(Xvec_list).toarray()\n",
    "X_final = pd.DataFrame(data = data, columns = fcolumns)\n",
    "X_final.head()"
   ]
  },
  {
   "cell_type": "markdown",
   "metadata": {},
   "source": [
    "This is just using DictVectorizer in order to create categorical dummy variables for each categorical variables. This leaves the only numerical variable 'temperature' alone. This creates the X columns to be passed into the models."
   ]
  },
  {
   "cell_type": "markdown",
   "metadata": {},
   "source": [
    "#### Random Forest"
   ]
  },
  {
   "cell_type": "markdown",
   "metadata": {},
   "source": [
    "A Random Forest Classifier is an ensemble method that trains a specific number of decision trees and calculates a prediction based on running data through each tree, getting a classification, and weighing the classification by variance in order to produce a final prediction. This classifier makes sense in this context for a number of reasons. First, we are using a dataset with unbalanced classes—there are many more cases where there is ‘No Surge’ than the other three classes. As you will see later, the Random Forest accounts for the unbalanced data set using the ‘subsample’ method. This means that when each tree is being trained, the algorithm automatically samples the data to have an equal number of classes for each tree. Second, we have a lot of data. Random Forest classifiers samples from the data many times and so the prediction will be optimal if there is a lot of data to be used. Finally, we are able to look at feature importance in the data, which is particularly enlightening on this data set. Thus we are able to see if temperature, time, or weather have the biggest effect on the pricing prediction."
   ]
  },
  {
   "cell_type": "code",
   "execution_count": 117,
   "metadata": {
    "collapsed": false
   },
   "outputs": [
    {
     "data": {
      "text/html": [
       "<div>\n",
       "<table border=\"1\" class=\"dataframe\">\n",
       "  <thead>\n",
       "    <tr style=\"text-align: right;\">\n",
       "      <th></th>\n",
       "      <th>surge=High Surge</th>\n",
       "      <th>surge=Low Surge</th>\n",
       "      <th>surge=Mid Surge</th>\n",
       "      <th>surge=No Surge</th>\n",
       "    </tr>\n",
       "  </thead>\n",
       "  <tbody>\n",
       "    <tr>\n",
       "      <th>0</th>\n",
       "      <td>0</td>\n",
       "      <td>0</td>\n",
       "      <td>0</td>\n",
       "      <td>1</td>\n",
       "    </tr>\n",
       "    <tr>\n",
       "      <th>1</th>\n",
       "      <td>0</td>\n",
       "      <td>0</td>\n",
       "      <td>0</td>\n",
       "      <td>1</td>\n",
       "    </tr>\n",
       "    <tr>\n",
       "      <th>2</th>\n",
       "      <td>0</td>\n",
       "      <td>0</td>\n",
       "      <td>0</td>\n",
       "      <td>1</td>\n",
       "    </tr>\n",
       "    <tr>\n",
       "      <th>3</th>\n",
       "      <td>0</td>\n",
       "      <td>0</td>\n",
       "      <td>0</td>\n",
       "      <td>1</td>\n",
       "    </tr>\n",
       "    <tr>\n",
       "      <th>4</th>\n",
       "      <td>0</td>\n",
       "      <td>0</td>\n",
       "      <td>0</td>\n",
       "      <td>1</td>\n",
       "    </tr>\n",
       "  </tbody>\n",
       "</table>\n",
       "</div>"
      ],
      "text/plain": [
       "   surge=High Surge  surge=Low Surge  surge=Mid Surge  surge=No Surge\n",
       "0                 0                0                0               1\n",
       "1                 0                0                0               1\n",
       "2                 0                0                0               1\n",
       "3                 0                0                0               1\n",
       "4                 0                0                0               1"
      ]
     },
     "execution_count": 117,
     "metadata": {},
     "output_type": "execute_result"
    }
   ],
   "source": [
    "#Create the Y matrix\n",
    "Yvec_list = []\n",
    "for i in range(len(df_final)):\n",
    "    temp_dict = {}\n",
    "    temp_dict['surge'] = dict_final['surge'][i]\n",
    "    Yvec_list.append(temp_dict)\n",
    "\n",
    "vec2 = DictVectorizer()\n",
    "vec2.fit_transform(Yvec_list)\n",
    "columns = vec2.get_feature_names()\n",
    "data = vec2.fit_transform(Yvec_list).toarray()\n",
    "Y_final = pd.DataFrame(data = data, columns = columns)\n",
    "Y_final.head()"
   ]
  },
  {
   "cell_type": "markdown",
   "metadata": {},
   "source": [
    "Creating the Y variable for **Random Forest only** as it needs the categories in dummy variables. The Logistic Regression Y variable will be created later."
   ]
  },
  {
   "cell_type": "code",
   "execution_count": 118,
   "metadata": {
    "collapsed": true
   },
   "outputs": [],
   "source": [
    "#Train and test sets and a validation set to be used if needed \n",
    "#(I ended up just using the cross validation function which does the validation set for us)\n",
    "X = X_final[mask]\n",
    "Y = Y_final[mask]\n",
    "X_train = X[mask2]\n",
    "Y_train = Y[mask2]\n",
    "X_Val = X[~mask2]\n",
    "Y_Val = Y[~mask2]\n",
    "X_test = X_final[~mask]\n",
    "Y_test = Y_final[~mask]"
   ]
  },
  {
   "cell_type": "code",
   "execution_count": 119,
   "metadata": {
    "collapsed": true
   },
   "outputs": [],
   "source": [
    "# Use cv_optimize writen in hw3\n",
    "def cv_optimize(clf, parameters, X, y, n_folds= 5, score_func= None):\n",
    "    clftemp = GridSearchCV(clf, parameters, cv = n_folds, score_func=score_func )\n",
    "    clftemp.fit(X, y)\n",
    "    best = clftemp.best_estimator_\n",
    "    params = clftemp.best_params_\n",
    "    print best\n",
    "    return best, params"
   ]
  },
  {
   "cell_type": "markdown",
   "metadata": {},
   "source": [
    "This is where we do the cross validation to find the best parameters to use for the given model (Random Forest or Logistic Regression). It takes in a model (clf) and dict of parameters to be checked over, and finds the optimal model."
   ]
  },
  {
   "cell_type": "code",
   "execution_count": 122,
   "metadata": {
    "collapsed": true
   },
   "outputs": [],
   "source": [
    "#parameter dictionary to be passed into cv_optimize\n",
    "parameters_dict = {}\n",
    "parameters_dict['max_features'] = ['auto', 'sqrt', 'log2', None]\n",
    "parameters_dict['class_weight'] = ['subsample']\n",
    "parameters_dict['max_depth'] = [None]\n",
    "rf = RandomForestClassifier(oob_score = True)"
   ]
  },
  {
   "cell_type": "markdown",
   "metadata": {},
   "source": [
    "The parameters to be checked for Random Forest. When optimizing a Random Forest, you only need to optimize the \"max features\" hyperparameter, which chooses the number of parameters that are used for each split to cause variance within the trees (strengthens the prediction). You also need to optimize the number of trees to be built, but this optimization comes later as you will see."
   ]
  },
  {
   "cell_type": "code",
   "execution_count": 124,
   "metadata": {
    "collapsed": false
   },
   "outputs": [
    {
     "name": "stdout",
     "output_type": "stream",
     "text": [
      "RandomForestClassifier(bootstrap=True, class_weight='subsample',\n",
      "            criterion='gini', max_depth=None, max_features='sqrt',\n",
      "            max_leaf_nodes=None, min_samples_leaf=1, min_samples_split=2,\n",
      "            min_weight_fraction_leaf=0.0, n_estimators=10, n_jobs=1,\n",
      "            oob_score=True, random_state=None, verbose=0, warm_start=False)\n",
      "Wall time: 48.8 s\n"
     ]
    },
    {
     "name": "stderr",
     "output_type": "stream",
     "text": [
      "C:\\Users\\ptrab_000\\Anaconda\\lib\\site-packages\\sklearn\\ensemble\\forest.py:379: UserWarning:\n",
      "\n",
      "Some inputs do not have OOB scores. This probably means too few trees were used to compute any reliable oob estimates.\n",
      "\n"
     ]
    }
   ],
   "source": [
    "%%time\n",
    "rf2, rf2params = cv_optimize(rf,parameters_dict, X_train, Y_train)"
   ]
  },
  {
   "cell_type": "code",
   "execution_count": 125,
   "metadata": {
    "collapsed": false
   },
   "outputs": [
    {
     "data": {
      "text/plain": [
       "{'class_weight': 'subsample', 'max_depth': None, 'max_features': 'sqrt'}"
      ]
     },
     "execution_count": 125,
     "metadata": {},
     "output_type": "execute_result"
    }
   ],
   "source": [
    "#best predictor\n",
    "rf2 = RandomForestClassifier(class_weight = rf2params['class_weight'],\n",
    "                             max_depth = rf2params['max_depth'], max_features = rf2params['max_features'], oob_score = True)\n",
    "rf2params"
   ]
  },
  {
   "cell_type": "code",
   "execution_count": 126,
   "metadata": {
    "collapsed": true
   },
   "outputs": [],
   "source": [
    "#See how prediction evolves over the amount of trees in random forest\n",
    "#note: will always increase with more trees, but reaches a \"limit\" where it just takes forever to train the model,\n",
    "#so pick a place where this is optimal by a time prespective\n",
    "\n",
    "num_trees = range(10,110,10)\n",
    "scores = []\n",
    "for i in range(len(num_trees)):\n",
    "    rf2 = RandomForestClassifier(n_estimators = num_trees[i],\n",
    "                                 class_weight = 'subsample', \n",
    "                                 max_depth = rf2params['max_depth'],\n",
    "                                oob_score = True)\n",
    "    rf2.fit(X,Y)\n",
    "    scores.append(rf2.score(X_test,Y_test))"
   ]
  },
  {
   "cell_type": "code",
   "execution_count": 127,
   "metadata": {
    "collapsed": false
   },
   "outputs": [
    {
     "data": {
      "image/png": "[encoded data removed]",
      "text/plain": [
       "<matplotlib.figure.Figure at 0x209a9780>"
      ]
     },
     "metadata": {},
     "output_type": "display_data"
    }
   ],
   "source": [
    "#show plot of error and number of trees in classifier\n",
    "plt.plot(scores)\n",
    "plt.xticks(np.arange(10),num_trees)\n",
    "plt.ylabel('Classification Error')\n",
    "plt.xlabel('Number of Trees')\n",
    "plt.title('Error by Number of Classification Trees')\n",
    "plt.grid('off')\n",
    "plt.show()"
   ]
  },
  {
   "cell_type": "markdown",
   "metadata": {},
   "source": [
    "Here is where I see where the optimal number of trees to be built is. So, the more trees you build the better the prediction will be in theory, but if you build 100,000 trees a lot of them will be redundent and it will take FOREVER to train and test. Therefore, this graph shows that after about 20 trees the model's prediction power levels off. We end up using more trees just to be safe and end up using 80 in the next block of code below. This seems to be a good number to optimize the predictive power while not taking forever to create."
   ]
  },
  {
   "cell_type": "code",
   "execution_count": 128,
   "metadata": {
    "collapsed": false
   },
   "outputs": [
    {
     "name": "stdout",
     "output_type": "stream",
     "text": [
      "0.951471012403\n",
      "0.975956486804\n"
     ]
    }
   ],
   "source": [
    "#check the score on the test set for overfitting\n",
    "rf2 = RandomForestClassifier(n_estimators = 90,\n",
    "                             class_weight = rf2params['class_weight'], \n",
    "                             max_depth = rf2params['max_depth'],\n",
    "                            oob_score = True)\n",
    "rf2.fit(X,Y)\n",
    "print rf2.score(X_test,Y_test)\n",
    "print rf2.score(X,Y)"
   ]
  },
  {
   "cell_type": "markdown",
   "metadata": {},
   "source": [
    "#### Logistic Regression"
   ]
  },
  {
   "cell_type": "code",
   "execution_count": 129,
   "metadata": {
    "collapsed": false
   },
   "outputs": [
    {
     "data": {
      "text/plain": [
       "1    No Surge\n",
       "2    No Surge\n",
       "3    No Surge\n",
       "5    No Surge\n",
       "6    No Surge\n",
       "Name: surge, dtype: object"
      ]
     },
     "execution_count": 129,
     "metadata": {},
     "output_type": "execute_result"
    }
   ],
   "source": [
    "# Fix the Y variable for Logistic Regression\n",
    "df_final['surge'].head()\n",
    "Y_lreg = df_final['surge'][mask]\n",
    "Y_lregtest = df_final['surge'][~mask]\n",
    "Y_lreg.head()"
   ]
  },
  {
   "cell_type": "code",
   "execution_count": 131,
   "metadata": {
    "collapsed": true
   },
   "outputs": [],
   "source": [
    "#parameters to be tested for Logistic Regression\n",
    "lreg_paramdict = {}\n",
    "lreg_paramdict['C'] = [0.001, 0.01, 0.1, 1.0, 10.0, 100.0]\n",
    "lreg_paramdict['penalty'] = ['l1','l2']\n",
    "lreg_paramdict['multi_class'] = ['ovr']\n",
    "lreg_paramdict['class_weight'] = ['auto',None]\n",
    "lreg = LogisticRegression(solver ='lbfgs' )"
   ]
  },
  {
   "cell_type": "code",
   "execution_count": 134,
   "metadata": {
    "collapsed": false
   },
   "outputs": [
    {
     "name": "stdout",
     "output_type": "stream",
     "text": [
      "LogisticRegression(C=1.0, class_weight=None, dual=False, fit_intercept=True,\n",
      "          intercept_scaling=1, max_iter=100, multi_class='ovr',\n",
      "          penalty='l1', random_state=None, solver='lbfgs', tol=0.0001,\n",
      "          verbose=0)\n",
      "Wall time: 7min 16s\n"
     ]
    }
   ],
   "source": [
    "%%time\n",
    "#optimize parameters for logistic regression\n",
    "lreg2, lregparams = cv_optimize(lreg,lreg_paramdict, X, Y_lreg)"
   ]
  },
  {
   "cell_type": "code",
   "execution_count": 135,
   "metadata": {
    "collapsed": false
   },
   "outputs": [
    {
     "name": "stdout",
     "output_type": "stream",
     "text": [
      "0.945144940973\n",
      "0.949019325065\n"
     ]
    }
   ],
   "source": [
    "lreg2 = LogisticRegression(solver ='lbfgs', C = lregparams['C'], class_weight = lregparams['class_weight'],\n",
    "                           multi_class = lregparams['multi_class'], penalty = lregparams['penalty'] )\n",
    "lreg2.fit(X,Y_lreg)\n",
    "print lreg2.score(X,Y_lreg)\n",
    "print lreg2.score(X_test,Y_lregtest)"
   ]
  },
  {
   "cell_type": "code",
   "execution_count": null,
   "metadata": {
    "collapsed": true
   },
   "outputs": [],
   "source": []
  }
 ],
 "metadata": {
  "kernelspec": {
   "display_name": "Python 2",
   "language": "python",
   "name": "python2"
  },
  "language_info": {
   "codemirror_mode": {
    "name": "ipython",
    "version": 2
   },
   "file_extension": ".py",
   "mimetype": "text/x-python",
   "name": "python",
   "nbconvert_exporter": "python",
   "pygments_lexer": "ipython2",
   "version": "2.7.10"
  }
 },
 "nbformat": 4,
 "nbformat_minor": 0
}
